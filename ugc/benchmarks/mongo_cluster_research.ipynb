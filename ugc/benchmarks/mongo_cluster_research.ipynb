{
 "cells": [
  {
   "cell_type": "code",
   "execution_count": 1,
   "metadata": {
    "ExecuteTime": {
     "end_time": "2023-06-23T15:43:16.312356Z",
     "start_time": "2023-06-23T15:43:16.230594Z"
    },
    "collapsed": false
   },
   "outputs": [
    {
     "name": "stdout",
     "output_type": "stream",
     "text": [
      "Requirement already satisfied: pip in c:\\users\\ilyas\\appdata\\local\\packages\\pythonsoftwarefoundation.python.3.10_qbz5n2kfra8p0\\localcache\\local-packages\\python310\\site-packages (24.0)\n",
      "Note: you may need to restart the kernel to use updated packages.\n",
      "Requirement already satisfied: pymongo in c:\\users\\ilyas\\appdata\\local\\packages\\pythonsoftwarefoundation.python.3.10_qbz5n2kfra8p0\\localcache\\local-packages\\python310\\site-packages (4.6.3)\n",
      "Requirement already satisfied: dnspython<3.0.0,>=1.16.0 in c:\\users\\ilyas\\appdata\\local\\packages\\pythonsoftwarefoundation.python.3.10_qbz5n2kfra8p0\\localcache\\local-packages\\python310\\site-packages (from pymongo) (2.6.1)\n",
      "Note: you may need to restart the kernel to use updated packages.\n",
      "Requirement already satisfied: faker in c:\\users\\ilyas\\appdata\\local\\packages\\pythonsoftwarefoundation.python.3.10_qbz5n2kfra8p0\\localcache\\local-packages\\python310\\site-packages (24.7.1)\n",
      "Requirement already satisfied: python-dateutil>=2.4 in c:\\users\\ilyas\\appdata\\local\\packages\\pythonsoftwarefoundation.python.3.10_qbz5n2kfra8p0\\localcache\\local-packages\\python310\\site-packages (from faker) (2.9.0.post0)\n",
      "Requirement already satisfied: six>=1.5 in c:\\users\\ilyas\\appdata\\local\\packages\\pythonsoftwarefoundation.python.3.10_qbz5n2kfra8p0\\localcache\\local-packages\\python310\\site-packages (from python-dateutil>=2.4->faker) (1.16.0)\n",
      "Note: you may need to restart the kernel to use updated packages.\n"
     ]
    }
   ],
   "source": [
    "%pip install --upgrade pip \n",
    "%pip install pymongo\n",
    "%pip install faker"
   ]
  },
  {
   "cell_type": "code",
   "execution_count": 2,
   "metadata": {},
   "outputs": [],
   "source": [
    "from uuid import uuid4\n",
    "from datetime import datetime\n",
    "from contextlib import closing\n",
    "from time import time\n",
    "from random import choice as random_choice\n",
    "\n",
    "from pymongo import MongoClient\n",
    "\n",
    "from faker import Faker"
   ]
  },
  {
   "cell_type": "code",
   "execution_count": 3,
   "metadata": {},
   "outputs": [],
   "source": [
    "USERNAME = 'bench_user'\n",
    "PASS = 'bench_pass'\n",
    "HOST = 'localhost'\n",
    "PORT = 27019\n",
    "DB = 'bench_db'\n",
    "\n",
    "def get_mongo_client():\n",
    "    return MongoClient(host=HOST,\n",
    "                       port=PORT,\n",
    "                       uuidRepresentation='standard')\n",
    "# def get_mongo_client():\n",
    "#     return MongoClient(host=HOST,\n",
    "#                        port=PORT,\n",
    "#                        username=USERNAME,\n",
    "#                        password=PASS,\n",
    "#                        uuidRepresentation='standard')\n"
   ]
  },
  {
   "cell_type": "code",
   "execution_count": 4,
   "metadata": {},
   "outputs": [
    {
     "name": "stdout",
     "output_type": "stream",
     "text": [
      "[]\n",
      "['review']\n",
      "{'_id_': {'v': 2, 'key': [('_id', 1)]}}\n",
      "{'_id_': {'v': 2, 'key': [('_id', 1)]}, 'movie_id_1': {'v': 2, 'key': [('movie_id', 1)]}}\n"
     ]
    }
   ],
   "source": [
    "# create review collection\n",
    "with closing(get_mongo_client()) as client:\n",
    "   database = client[DB]\n",
    "\n",
    "   database.drop_collection('review')\n",
    "\n",
    "   print(database.list_collection_names())\n",
    "   review_schema = {\n",
    "         \"bsonType\": \"object\",\n",
    "         \"required\": [\"user_id\", \"movie_id\", \"score\", \"review_dt\"],\n",
    "         \"properties\": {\n",
    "            \"user_id\": {\n",
    "               \"bsonType\": \"binData\"\n",
    "            },\n",
    "            \"movie_id\": {\n",
    "               \"bsonType\": \"binData\"\n",
    "            },\n",
    "            \"score\": {\n",
    "               \"bsonType\": \"int\"\n",
    "            },\n",
    "            \"text\": {\n",
    "               \"bsonType\": \"string\"\n",
    "            },\n",
    "            \"review_dt\": {\n",
    "               \"bsonType\": \"date\"\n",
    "            }\n",
    "         }\n",
    "      }\n",
    "\n",
    "   review_collection = database.create_collection(\n",
    "      'review',\n",
    "      check_exists=False,\n",
    "      validator= {\n",
    "         '$jsonSchema': review_schema\n",
    "      })\n",
    "\n",
    "   print(database.list_collection_names())\n",
    "\n",
    "   print(review_collection.index_information())\n",
    "   review_collection.create_index(\"movie_id\")\n",
    "   print(review_collection.index_information())\n"
   ]
  },
  {
   "cell_type": "code",
   "execution_count": 5,
   "metadata": {},
   "outputs": [
    {
     "name": "stdout",
     "output_type": "stream",
     "text": [
      "['review']\n",
      "['bookmark', 'review']\n",
      "{'_id_': {'v': 2, 'key': [('_id', 1)]}}\n",
      "{'_id_': {'v': 2, 'key': [('_id', 1)]}, 'user_id_1': {'v': 2, 'key': [('user_id', 1)]}}\n"
     ]
    }
   ],
   "source": [
    "# create bookmark collection\n",
    "with closing(get_mongo_client()) as client:\n",
    "   database = client[DB]\n",
    "\n",
    "   database.drop_collection('bookmark')\n",
    "\n",
    "   print(database.list_collection_names())\n",
    "   bookmark_schema = {\n",
    "         \"bsonType\": \"object\",\n",
    "         \"required\": [\"user_id\", \"movie_id\"],\n",
    "         \"properties\": {\n",
    "            \"user_id\": {\n",
    "               \"bsonType\": \"binData\"\n",
    "            },\n",
    "            \"movie_id\": {\n",
    "               \"bsonType\": \"binData\"\n",
    "            }\n",
    "         }\n",
    "      }\n",
    "\n",
    "   bookmark_collection = database.create_collection(\n",
    "      'bookmark',\n",
    "      check_exists=False,\n",
    "      validator= {\n",
    "         '$jsonSchema': bookmark_schema\n",
    "      })\n",
    "\n",
    "   print(database.list_collection_names())\n",
    "\n",
    "   print(bookmark_collection.index_information())\n",
    "   bookmark_collection.create_index(\"user_id\")\n",
    "   print(bookmark_collection.index_information())"
   ]
  },
  {
   "cell_type": "code",
   "execution_count": 6,
   "metadata": {},
   "outputs": [
    {
     "name": "stdout",
     "output_type": "stream",
     "text": [
      "['bookmark', 'review']\n",
      "['review_rating', 'bookmark', 'review']\n",
      "{'_id_': {'v': 2, 'key': [('_id', 1)]}}\n",
      "{'_id_': {'v': 2, 'key': [('_id', 1)]}, 'review_id_1': {'v': 2, 'key': [('review_id', 1)]}}\n"
     ]
    }
   ],
   "source": [
    "# create review_rating collection\n",
    "with closing(get_mongo_client()) as client:\n",
    "    database = client[DB]\n",
    "\n",
    "    database.drop_collection('review_rating')\n",
    "\n",
    "    print(database.list_collection_names())\n",
    "    review_rating_schema = {\n",
    "        \"bsonType\": \"object\",\n",
    "        \"required\": [\"user_id\", \"review_id\", \"score\"],\n",
    "        \"properties\": {\n",
    "            \"user_id\": {\n",
    "                \"bsonType\": \"binData\"\n",
    "            },\n",
    "            \"review_id\": {\n",
    "                \"bsonType\": \"binData\"\n",
    "            },\n",
    "            \"score\": {\n",
    "                \"bsonType\": \"int\"\n",
    "            }\n",
    "        }\n",
    "    }\n",
    "\n",
    "    review_rating_collection = database.create_collection(\n",
    "        'review_rating',\n",
    "        check_exists=False,\n",
    "        validator= {\n",
    "            '$jsonSchema': review_rating_schema,\n",
    "            'score': {\n",
    "                '$in': [-1, 1]\n",
    "            }\n",
    "        }\n",
    "    )\n",
    "\n",
    "    print(database.list_collection_names())\n",
    "\n",
    "    print(review_rating_collection.index_information())\n",
    "    review_rating_collection.create_index(\"review_id\")\n",
    "    print(review_rating_collection.index_information())"
   ]
  },
  {
   "cell_type": "code",
   "execution_count": 7,
   "metadata": {},
   "outputs": [],
   "source": [
    "fake: Faker = Faker()\n",
    "\n",
    "USERS_COUNT = 500\n",
    "USERS_IDS = [uuid4() for _ in range(USERS_COUNT)]\n",
    "\n",
    "MOVIES_COUNT = 1000\n",
    "MOVIES_IDS = [uuid4() for _ in range(MOVIES_COUNT)]"
   ]
  },
  {
   "cell_type": "code",
   "execution_count": 8,
   "metadata": {},
   "outputs": [
    {
     "name": "stdout",
     "output_type": "stream",
     "text": [
      "Insert 500000 elements.\n",
      "Speed: 288.8 records/sec\n"
     ]
    }
   ],
   "source": [
    "# insert review\n",
    "with closing(get_mongo_client()) as client:\n",
    "    collection = client[DB]['review']\n",
    "\n",
    "    start_time: float = time()\n",
    "    for user_id in USERS_IDS:\n",
    "        for movie_id in MOVIES_IDS:\n",
    "            new_review = {\n",
    "                'user_id': uuid4(),\n",
    "                'movie_id': uuid4(),\n",
    "                'score': fake.random_int(min=0, max=10),\n",
    "                'text': fake.text(),\n",
    "                'review_dt': fake.date_time_between(start_date=\"-1y\", end_date=\"now\")\n",
    "            }\n",
    "\n",
    "            collection.insert_one(new_review)\n",
    "\n",
    "    insertion_time: float = time() - start_time\n",
    "    insertion_speed: float = round(USERS_COUNT * MOVIES_COUNT / insertion_time, 2)\n",
    "\n",
    "    print(f'Insert {USERS_COUNT * MOVIES_COUNT} elements.\\nSpeed: {insertion_speed:,} records/sec')"
   ]
  },
  {
   "cell_type": "code",
   "execution_count": 9,
   "metadata": {},
   "outputs": [
    {
     "name": "stdout",
     "output_type": "stream",
     "text": [
      "Insert 500000 elements.\n",
      "Insertion speed: 313.44 records/sec\n"
     ]
    }
   ],
   "source": [
    "# insert bookmark\n",
    "with closing(get_mongo_client()) as client:\n",
    "    collection = client[DB]['bookmark']\n",
    "\n",
    "    start_time: float = time()\n",
    "    for user_id in USERS_IDS:\n",
    "        for movie_id in MOVIES_IDS:\n",
    "            new_bookmark = {\n",
    "                'user_id': uuid4(),\n",
    "                'movie_id': uuid4()\n",
    "            }\n",
    "            collection.insert_one(new_bookmark)\n",
    "\n",
    "    insertion_time: float = time() - start_time\n",
    "    insertion_speed: float = round(USERS_COUNT * MOVIES_COUNT / insertion_time, 2)\n",
    "\n",
    "    print(f'Insert {USERS_COUNT * MOVIES_COUNT} bookmarks.\\nInsertion speed: {insertion_speed:,} records/sec')"
   ]
  },
  {
   "cell_type": "code",
   "execution_count": null,
   "metadata": {},
   "outputs": [],
   "source": []
  },
  {
   "cell_type": "code",
   "execution_count": 10,
   "metadata": {},
   "outputs": [
    {
     "name": "stdout",
     "output_type": "stream",
     "text": [
      "Insert 500000 elements.\n",
      "Speed: 300.94 records/sec\n"
     ]
    }
   ],
   "source": [
    "# insert review rating\n",
    "with closing(get_mongo_client()) as client:\n",
    "    collection = client[DB]['review_rating']\n",
    "\n",
    "    reviews_count_for_bench = 1000\n",
    "    users_count_for_bench = 500\n",
    "\n",
    "    query_result = client[DB]['review'].find({})\n",
    "    all_reviews_ids = [review.get('id') for review in query_result][:reviews_count_for_bench]\n",
    "\n",
    "    start_time: float = time()\n",
    "    for user_id in USERS_IDS[:users_count_for_bench]:\n",
    "        for review_id in all_reviews_ids:\n",
    "            score = random_choice([-1, 1])\n",
    "            new_review_rating = {\n",
    "                'user_id': uuid4(),\n",
    "                'review_id': uuid4(),\n",
    "                'score': score\n",
    "            }\n",
    "            collection.insert_one(new_review_rating)\n",
    "\n",
    "    insertion_time: float = time() - start_time\n",
    "    insertion_speed: float = round((\n",
    "        reviews_count_for_bench * users_count_for_bench) / insertion_time, 2)\n",
    "\n",
    "    print(f'Insert {reviews_count_for_bench * users_count_for_bench} elements.\\nSpeed: {insertion_speed:,} records/sec')"
   ]
  },
  {
   "cell_type": "code",
   "execution_count": 22,
   "metadata": {},
   "outputs": [
    {
     "name": "stdout",
     "output_type": "stream",
     "text": [
      "Select 500000 reviews.\n",
      "Speed: 64390.01864319769 records/sec\n"
     ]
    }
   ],
   "source": [
    "# select review\n",
    "with closing(get_mongo_client()) as client:\n",
    "    collection = client[DB]['review']\n",
    "\n",
    "    start_time = time()\n",
    "    all_reviews = list(collection.find({}))\n",
    "    selection_time = float(time() - start_time)\n",
    "\n",
    "    reviews_len = len(all_reviews)\n",
    "    selection_speed = reviews_len / selection_time\n",
    "\n",
    "    print(f'Select {reviews_len} reviews.\\nSpeed: {selection_speed} records/sec')"
   ]
  },
  {
   "cell_type": "code",
   "execution_count": 23,
   "metadata": {},
   "outputs": [
    {
     "name": "stdout",
     "output_type": "stream",
     "text": [
      "Select 500000 bookmarks.\n",
      "Speed: 92491.15355585288 records/sec\n"
     ]
    }
   ],
   "source": [
    "# select bookmarks\n",
    "with closing(get_mongo_client()) as client:\n",
    "    collection = client[DB]['bookmark']\n",
    "\n",
    "    start_time = time()\n",
    "    all_bookmarks = list(collection.find({}))\n",
    "    selection_time = float(time() - start_time)\n",
    "\n",
    "    bookmarks_len = len(all_bookmarks)\n",
    "    selection_speed = bookmarks_len / selection_time\n",
    "\n",
    "    print(f'Select {bookmarks_len} bookmarks.\\nSpeed: {selection_speed} records/sec')"
   ]
  },
  {
   "cell_type": "code",
   "execution_count": 24,
   "metadata": {},
   "outputs": [
    {
     "name": "stdout",
     "output_type": "stream",
     "text": [
      "Select 500000 reviews ratings.\n",
      "Speed: 86625.94 records/sec\n"
     ]
    }
   ],
   "source": [
    "# select review ratings\n",
    "with closing(get_mongo_client()) as client:\n",
    "    collection = client[DB]['review_rating']\n",
    "\n",
    "    start_time: float = time()\n",
    "    all_review_ratings = list(collection.find({}))\n",
    "    selection_time: float = float(time() - start_time)\n",
    "\n",
    "    reviews_ratings_len = len(list(all_review_ratings))\n",
    "    selection_speed: float = round(reviews_ratings_len / selection_time , 2)\n",
    "\n",
    "    print(f'Select {reviews_ratings_len} reviews ratings.\\nSpeed: {selection_speed} records/sec')"
   ]
  },
  {
   "cell_type": "code",
   "execution_count": 25,
   "metadata": {},
   "outputs": [],
   "source": [
    "# update review\n",
    "with closing(get_mongo_client()) as client:\n",
    "    collection = client[DB]['review']\n",
    "\n",
    "    all_reviews = list(collection.find({}))\n",
    "    reviews_len = len(all_reviews)\n",
    "\n",
    "    start_time: float = time()\n",
    "    for review in all_reviews:\n",
    "        filter = {\n",
    "            'movie_id': review.get('movie_id'),\n",
    "            'user_id': review.get('user_id'),\n",
    "        }\n",
    "        new_values = {\n",
    "            'score': fake.random_int(min=0, max=10),\n",
    "            'text': fake.text(),\n",
    "            'review_dt': fake.date_time_between(start_date=\"-1y\", end_date=\"now\")\n",
    "        }\n",
    "\n",
    "        collection.update_one(filter, {'$set': new_values})\n",
    "\n",
    "    updation_time: float = float(time() - start_time)\n",
    "    print(updation_time)\n",
    "    updation_speed: float = reviews_len / updation_time\n",
    "\n",
    "    print(f'Update {reviews_len} reviews.\\nUpdation speed: {updation_speed} records/sec')"
   ]
  }
 ],
 "metadata": {
  "kernelspec": {
   "display_name": "Python 3",
   "language": "python",
   "name": "python3"
  },
  "language_info": {
   "codemirror_mode": {
    "name": "ipython",
    "version": 3
   },
   "file_extension": ".py",
   "mimetype": "text/x-python",
   "name": "python",
   "nbconvert_exporter": "python",
   "pygments_lexer": "ipython3",
   "version": "3.10.11"
  }
 },
 "nbformat": 4,
 "nbformat_minor": 0
}
