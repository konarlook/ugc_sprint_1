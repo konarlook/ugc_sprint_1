{
 "cells": [
  {
   "cell_type": "code",
   "execution_count": 17,
   "metadata": {
    "ExecuteTime": {
     "end_time": "2023-06-23T15:43:16.312356Z",
     "start_time": "2023-06-23T15:43:16.230594Z"
    },
    "collapsed": false
   },
   "outputs": [
    {
     "name": "stdout",
     "output_type": "stream",
     "text": [
      "Requirement already satisfied: pip in c:\\users\\py\\desktop\\ugc_sprint_1\\.venv\\lib\\site-packages (24.0)\n",
      "Note: you may need to restart the kernel to use updated packages.\n",
      "Requirement already satisfied: sqlalchemy in c:\\users\\py\\desktop\\ugc_sprint_1\\.venv\\lib\\site-packages (2.0.29)\n",
      "Requirement already satisfied: typing-extensions>=4.6.0 in c:\\users\\py\\desktop\\ugc_sprint_1\\.venv\\lib\\site-packages (from sqlalchemy) (4.11.0)\n",
      "Requirement already satisfied: greenlet!=0.4.17 in c:\\users\\py\\desktop\\ugc_sprint_1\\.venv\\lib\\site-packages (from sqlalchemy) (3.0.3)\n",
      "Note: you may need to restart the kernel to use updated packages.\n",
      "Requirement already satisfied: sqlalchemy_utils in c:\\users\\py\\desktop\\ugc_sprint_1\\.venv\\lib\\site-packages (0.41.2)\n",
      "Requirement already satisfied: SQLAlchemy>=1.3 in c:\\users\\py\\desktop\\ugc_sprint_1\\.venv\\lib\\site-packages (from sqlalchemy_utils) (2.0.29)\n",
      "Requirement already satisfied: typing-extensions>=4.6.0 in c:\\users\\py\\desktop\\ugc_sprint_1\\.venv\\lib\\site-packages (from SQLAlchemy>=1.3->sqlalchemy_utils) (4.11.0)\n",
      "Requirement already satisfied: greenlet!=0.4.17 in c:\\users\\py\\desktop\\ugc_sprint_1\\.venv\\lib\\site-packages (from SQLAlchemy>=1.3->sqlalchemy_utils) (3.0.3)\n",
      "Note: you may need to restart the kernel to use updated packages.\n",
      "Collecting psycopg2\n",
      "  Using cached psycopg2-2.9.9-cp39-cp39-win_amd64.whl.metadata (4.6 kB)\n",
      "Downloading psycopg2-2.9.9-cp39-cp39-win_amd64.whl (1.2 MB)\n",
      "   ---------------------------------------- 0.0/1.2 MB ? eta -:--:--\n",
      "   -- ------------------------------------- 0.1/1.2 MB 1.5 MB/s eta 0:00:01\n",
      "   --------- ------------------------------ 0.3/1.2 MB 2.9 MB/s eta 0:00:01\n",
      "   -------------------- ------------------- 0.6/1.2 MB 4.3 MB/s eta 0:00:01\n",
      "   -------------------------------------- - 1.1/1.2 MB 6.0 MB/s eta 0:00:01\n",
      "   ---------------------------------------- 1.2/1.2 MB 5.7 MB/s eta 0:00:00\n",
      "Installing collected packages: psycopg2\n",
      "Successfully installed psycopg2-2.9.9\n",
      "Note: you may need to restart the kernel to use updated packages.\n"
     ]
    }
   ],
   "source": [
    "%pip install --upgrade pip \n",
    "%pip install sqlalchemy\n",
    "%pip install sqlalchemy_utils\n",
    "%pip install psycopg2"
   ]
  },
  {
   "cell_type": "code",
   "execution_count": 18,
   "metadata": {},
   "outputs": [],
   "source": [
    "from enum import Enum\n",
    "from typing import List\n",
    "from uuid import UUID\n",
    "from datetime import datetime\n",
    "\n",
    "from sqlalchemy import (\n",
    "    create_engine,\n",
    "    inspect,\n",
    "    DateTime,\n",
    "    ForeignKey,\n",
    "    UniqueConstraint,\n",
    "    types\n",
    ")\n",
    "from sqlalchemy.orm import Mapped, mapped_column, relationship, validates, declarative_base\n",
    "from sqlalchemy_utils import database_exists, create_database"
   ]
  },
  {
   "cell_type": "code",
   "execution_count": 30,
   "metadata": {},
   "outputs": [],
   "source": [
    "Base = declarative_base()\n",
    "\n",
    "\n",
    "\n",
    "class LikeDislike(Enum):\n",
    "    like = 1\n",
    "    dislike = -1\n",
    "\n",
    "\n",
    "class Review(Base):\n",
    "    __tablename__ = \"review\"\n",
    "    __table_args__ = (\n",
    "        UniqueConstraint('user_id', 'movie_id', name='unique_review_user_movie'),\n",
    "    )\n",
    "\n",
    "    id: Mapped[UUID] = mapped_column(primary_key=True)\n",
    "\n",
    "    user_id: Mapped[UUID]\n",
    "    movie_id: Mapped[UUID] = mapped_column(index=True)\n",
    "\n",
    "    score: Mapped[int] = mapped_column(nullable=False, comment=\"Оценка отзыва\")\n",
    "    text: Mapped[str] = mapped_column(nullable=False, comment=\"Текст отзыва\")\n",
    "    review_dt: Mapped[datetime] = mapped_column(nullable=False)\n",
    "\n",
    "    reviews_ratings: Mapped[List['UserReviewRating']] = relationship(\n",
    "        back_populates=\"review\", cascade='all, delete')\n",
    "    \n",
    "    @validates('score')\n",
    "    def validate_score(self, key, value):\n",
    "        if 0 <= value <= 10:\n",
    "            return value\n",
    "        raise ValueError(\"Value should be between 0 and 10\")\n",
    "\n",
    "\n",
    "\n",
    "class Bookmark(Base):\n",
    "    __tablename__ = \"bookmark\"\n",
    "    __table_args__ = (\n",
    "        UniqueConstraint('user_id', 'movie_id', name='unique_bookmark_user_movie'),\n",
    "    )\n",
    "\n",
    "    id: Mapped[UUID] = mapped_column(primary_key=True)\n",
    "\n",
    "    user_id: Mapped[UUID] = mapped_column(index=True)\n",
    "    movie_id: Mapped[UUID] = mapped_column(types.Uuid)\n",
    "\n",
    "\n",
    "class UserReviewRating(Base):\n",
    "    __tablename__ = \"user_review_rating\"\n",
    "    __table_args__ = (\n",
    "        UniqueConstraint('user_id', 'review_id', name='unique_user_review_rating'),\n",
    "    )\n",
    "    id: Mapped[UUID] = mapped_column(primary_key=True)\n",
    "\n",
    "    user_id: Mapped[int] = mapped_column(index=True)\n",
    "\n",
    "    review: Mapped[\"Review\"] = relationship(back_populates=\"reviews_ratings\")\n",
    "    review_id: Mapped[UUID] = mapped_column(ForeignKey(\"review.id\"))\n",
    "\n",
    "    score: Mapped[LikeDislike]\n",
    "\n"
   ]
  },
  {
   "cell_type": "code",
   "execution_count": 31,
   "metadata": {},
   "outputs": [
    {
     "name": "stdout",
     "output_type": "stream",
     "text": [
      "Моделей нет в БД\n",
      "Модели добавлены в БД\n"
     ]
    }
   ],
   "source": [
    "\n",
    "user = 'bench_user'\n",
    "password = 'bench_pass'\n",
    "host = 'localhost'\n",
    "port = 5434\n",
    "db = 'bench_db'\n",
    "\n",
    "pg_url = f'postgresql+psycopg2://{user}:{password}@{host}:{port}/{db}'\n",
    "if not database_exists(pg_url):\n",
    "    print('No db')\n",
    "    create_database(pg_url)\n",
    "    print('db created')\n",
    "\n",
    "engine = create_engine(pg_url)\n",
    "\n",
    "inspector = inspect(engine)\n",
    "db_tables = inspector.get_table_names()\n",
    "\n",
    "if not db_tables:\n",
    "    print('Моделей нет в БД')\n",
    "    Base.metadata.create_all(bind=engine)\n",
    "    print('Модели добавлены в БД')\n",
    "else:\n",
    "    print('Моделей уже есть в БД')"
   ]
  }
 ],
 "metadata": {
  "kernelspec": {
   "display_name": "Python 3",
   "language": "python",
   "name": "python3"
  },
  "language_info": {
   "codemirror_mode": {
    "name": "ipython",
    "version": 3
   },
   "file_extension": ".py",
   "mimetype": "text/x-python",
   "name": "python",
   "nbconvert_exporter": "python",
   "pygments_lexer": "ipython3",
   "version": "3.12.1"
  }
 },
 "nbformat": 4,
 "nbformat_minor": 0
}
