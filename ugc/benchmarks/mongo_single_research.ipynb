{
 "cells": [
  {
   "cell_type": "code",
   "execution_count": null,
   "metadata": {
    "ExecuteTime": {
     "end_time": "2023-06-23T15:43:16.312356Z",
     "start_time": "2023-06-23T15:43:16.230594Z"
    },
    "collapsed": false
   },
   "outputs": [],
   "source": [
    "%pip install --upgrade pip \n",
    "%pip install pymongo\n",
    "%pip install faker"
   ]
  },
  {
   "cell_type": "code",
   "execution_count": null,
   "metadata": {},
   "outputs": [],
   "source": [
    "from uuid import uuid4\n",
    "from datetime import datetime\n",
    "from contextlib import closing\n",
    "from time import time\n",
    "from random import choice as random_choice\n",
    "\n",
    "from pymongo import MongoClient\n",
    "\n",
    "from faker import Faker"
   ]
  },
  {
   "cell_type": "code",
   "execution_count": null,
   "metadata": {},
   "outputs": [],
   "source": [
    "USERNAME = 'bench_user'\n",
    "PASS = 'bench_pass'\n",
    "HOST = 'localhost'\n",
    "PORT = 27019\n",
    "DB = 'bench_db'\n",
    "\n",
    "def get_mongo_client():\n",
    "    return MongoClient(host=HOST,\n",
    "                       port=PORT,\n",
    "                       username=USERNAME,\n",
    "                       password=PASS,\n",
    "                       uuidRepresentation='standard')\n"
   ]
  },
  {
   "cell_type": "code",
   "execution_count": null,
   "metadata": {},
   "outputs": [],
   "source": [
    "# create review collection\n",
    "with closing(get_mongo_client()) as client:\n",
    "   database = client[DB]\n",
    "\n",
    "   database.drop_collection('review')\n",
    "\n",
    "   print(database.list_collection_names())\n",
    "   review_schema = {\n",
    "         \"bsonType\": \"object\",\n",
    "         \"required\": [\"user_id\", \"movie_id\", \"score\", \"review_dt\"],\n",
    "         \"properties\": {\n",
    "            \"user_id\": {\n",
    "               \"bsonType\": \"binData\"\n",
    "            },\n",
    "            \"movie_id\": {\n",
    "               \"bsonType\": \"binData\"\n",
    "            },\n",
    "            \"score\": {\n",
    "               \"bsonType\": \"int\"\n",
    "            },\n",
    "            \"text\": {\n",
    "               \"bsonType\": \"string\"\n",
    "            },\n",
    "            \"review_dt\": {\n",
    "               \"bsonType\": \"date\"\n",
    "            }\n",
    "         }\n",
    "      }\n",
    "\n",
    "   review_collection = database.create_collection(\n",
    "      'review',\n",
    "      check_exists=False,\n",
    "      validator= {\n",
    "         '$jsonSchema': review_schema\n",
    "      })\n",
    "\n",
    "   print(database.list_collection_names())\n",
    "\n",
    "   print(review_collection.index_information())\n",
    "   review_collection.create_index(\"movie_id\")\n",
    "   print(review_collection.index_information())\n"
   ]
  },
  {
   "cell_type": "code",
   "execution_count": null,
   "metadata": {},
   "outputs": [],
   "source": [
    "# create bookmark collection\n",
    "with closing(get_mongo_client()) as client:\n",
    "   database = client[DB]\n",
    "\n",
    "   database.drop_collection('bookmark')\n",
    "\n",
    "   print(database.list_collection_names())\n",
    "   bookmark_schema = {\n",
    "         \"bsonType\": \"object\",\n",
    "         \"required\": [\"user_id\", \"movie_id\"],\n",
    "         \"properties\": {\n",
    "            \"user_id\": {\n",
    "               \"bsonType\": \"binData\"\n",
    "            },\n",
    "            \"movie_id\": {\n",
    "               \"bsonType\": \"binData\"\n",
    "            }\n",
    "         }\n",
    "      }\n",
    "\n",
    "   bookmark_collection = database.create_collection(\n",
    "      'bookmark',\n",
    "      check_exists=False,\n",
    "      validator= {\n",
    "         '$jsonSchema': bookmark_schema\n",
    "      })\n",
    "\n",
    "   print(database.list_collection_names())\n",
    "\n",
    "   print(bookmark_collection.index_information())\n",
    "   bookmark_collection.create_index(\"user_id\")\n",
    "   print(bookmark_collection.index_information())"
   ]
  },
  {
   "cell_type": "code",
   "execution_count": null,
   "metadata": {},
   "outputs": [],
   "source": [
    "# create review_rating collection\n",
    "with closing(get_mongo_client()) as client:\n",
    "    database = client[DB]\n",
    "\n",
    "    database.drop_collection('review_rating')\n",
    "\n",
    "    print(database.list_collection_names())\n",
    "    review_rating_schema = {\n",
    "        \"bsonType\": \"object\",\n",
    "        \"required\": [\"user_id\", \"review_id\", \"score\"],\n",
    "        \"properties\": {\n",
    "            \"user_id\": {\n",
    "                \"bsonType\": \"binData\"\n",
    "            },\n",
    "            \"review_id\": {\n",
    "                \"bsonType\": \"binData\"\n",
    "            },\n",
    "            \"score\": {\n",
    "                \"bsonType\": \"int\"\n",
    "            }\n",
    "        }\n",
    "    }\n",
    "\n",
    "    review_rating_collection = database.create_collection(\n",
    "        'review_rating',\n",
    "        check_exists=False,\n",
    "        validator= {\n",
    "            '$jsonSchema': review_rating_schema,\n",
    "            'score': {\n",
    "                '$in': [-1, 1]\n",
    "            }\n",
    "        }\n",
    "    )\n",
    "\n",
    "    print(database.list_collection_names())\n",
    "\n",
    "    print(review_rating_collection.index_information())\n",
    "    review_rating_collection.create_index(\"review_id\")\n",
    "    print(review_rating_collection.index_information())"
   ]
  },
  {
   "cell_type": "code",
   "execution_count": 185,
   "metadata": {},
   "outputs": [],
   "source": [
    "fake: Faker = Faker()\n",
    "\n",
    "USERS_COUNT = 500\n",
    "USERS_IDS = [uuid4() for _ in range(USERS_COUNT)]\n",
    "\n",
    "MOVIES_COUNT = 1000\n",
    "MOVIES_IDS = [uuid4() for _ in range(MOVIES_COUNT)]"
   ]
  },
  {
   "cell_type": "code",
   "execution_count": 165,
   "metadata": {},
   "outputs": [
    {
     "name": "stdout",
     "output_type": "stream",
     "text": [
      "Insert 50000 elements.\n",
      "Speed: 674.79 records/sec\n"
     ]
    }
   ],
   "source": [
    "# insert review\n",
    "with closing(get_mongo_client()) as client:\n",
    "    collection = client[DB]['review']\n",
    "\n",
    "    start_time: float = time()\n",
    "    for user_id in USERS_IDS:\n",
    "        for movie_id in MOVIES_IDS:\n",
    "            new_review = {\n",
    "                'user_id': uuid4(),\n",
    "                'movie_id': uuid4(),\n",
    "                'score': fake.random_int(min=0, max=10),\n",
    "                'text': fake.text(),\n",
    "                'review_dt': fake.date_time_between(start_date=\"-1y\", end_date=\"now\")\n",
    "            }\n",
    "\n",
    "            collection.insert_one(new_review)\n",
    "\n",
    "    insertion_time: float = time() - start_time\n",
    "    insertion_speed: float = round(USERS_COUNT * MOVIES_COUNT / insertion_time, 2)\n",
    "\n",
    "    print(f'Insert {USERS_COUNT * MOVIES_COUNT} elements.\\nSpeed: {insertion_speed:,} records/sec')"
   ]
  },
  {
   "cell_type": "code",
   "execution_count": 157,
   "metadata": {},
   "outputs": [
    {
     "name": "stdout",
     "output_type": "stream",
     "text": [
      "Insertion speed: 893.8 records/sec\n"
     ]
    }
   ],
   "source": [
    "# insert bookmark\n",
    "with closing(get_mongo_client()) as client:\n",
    "    collection = client[DB]['bookmark']\n",
    "\n",
    "    start_time: float = time()\n",
    "    for user_id in USERS_IDS:\n",
    "        for movie_id in MOVIES_IDS:\n",
    "            new_bookmark = {\n",
    "                'user_id': uuid4(),\n",
    "                'movie_id': uuid4()\n",
    "            }\n",
    "            collection.insert_one(new_bookmark)\n",
    "\n",
    "    insertion_time: float = time() - start_time\n",
    "    insertion_speed: float = round(USERS_COUNT * MOVIES_COUNT / insertion_time, 2)\n",
    "\n",
    "    print(f'Insert {USERS_COUNT * MOVIES_COUNT} elements.\\nSpeed: {insertion_speed:,} records/sec')"
   ]
  },
  {
   "cell_type": "code",
   "execution_count": 187,
   "metadata": {},
   "outputs": [
    {
     "name": "stdout",
     "output_type": "stream",
     "text": [
      "Insert 50000 elements.\n",
      "Speed: 652.38 records/sec\n"
     ]
    }
   ],
   "source": [
    "# insert review rating\n",
    "with closing(get_mongo_client()) as client:\n",
    "    collection = client[DB]['review_rating']\n",
    "\n",
    "    reviews_count_for_bench = 100\n",
    "    users_count_for_bench = 500\n",
    "\n",
    "    query_result = client[DB]['review'].find({})\n",
    "    all_reviews_ids = [review.get('id') for review in query_result][:reviews_count_for_bench]\n",
    "\n",
    "    start_time: float = time()\n",
    "    for user_id in USERS_IDS[:users_count_for_bench]:\n",
    "        for review_id in all_reviews_ids:\n",
    "            score = random_choice([-1, 1])\n",
    "            new_review_rating = {\n",
    "                'user_id': uuid4(),\n",
    "                'review_id': uuid4(),\n",
    "                'score': score\n",
    "            }\n",
    "            collection.insert_one(new_review_rating)\n",
    "\n",
    "    insertion_time: float = time() - start_time\n",
    "    insertion_speed: float = round((\n",
    "        reviews_count_for_bench * users_count_for_bench) / insertion_time, 2)\n",
    "\n",
    "    print(f'Insert {reviews_count_for_bench * users_count_for_bench} elements.\\nSpeed: {insertion_speed:,} records/sec')"
   ]
  },
  {
   "cell_type": "code",
   "execution_count": 142,
   "metadata": {},
   "outputs": [
    {
     "name": "stdout",
     "output_type": "stream",
     "text": [
      "25000\n",
      "Selecting speed: 25687800.09799118 records/sec\n"
     ]
    }
   ],
   "source": [
    "# select review\n",
    "with closing(get_mongo_client()) as client:\n",
    "    collection = client[DB]['review']\n",
    "    start_time = time()\n",
    "    \n",
    "    all_reviews = collection.find({})\n",
    "\n",
    "    selection_time = float(time() - start_time)\n",
    "\n",
    "    reviews_len = len(list(all_reviews))\n",
    "    selection_speed = reviews_len / selection_time\n",
    "\n",
    "    print(f'Select {reviews_len} elements.\\nSpeed: {selection_speed} records/sec')"
   ]
  },
  {
   "cell_type": "code",
   "execution_count": 159,
   "metadata": {},
   "outputs": [
    {
     "name": "stdout",
     "output_type": "stream",
     "text": [
      "0.0009984970092773438\n",
      "75000\n",
      "Selecting speed: 75112893.98280802 records/sec\n"
     ]
    }
   ],
   "source": [
    "# select bookmarks\n",
    "with closing(get_mongo_client()) as client:\n",
    "    collection = client[DB]['bookmark']\n",
    "    start_time = time()\n",
    "    all_bookmarks = collection.find({})\n",
    "\n",
    "    selection_time = float(time() - start_time)\n",
    "    print(insertion_time)\n",
    "\n",
    "    bookmarks_len = len(list(all_bookmarks))\n",
    "    print(bookmarks_len)\n",
    "\n",
    "    selection_speed = bookmarks_len / selection_time\n",
    "\n",
    "    print(f'Select {bookmarks_len} elements.\\nSpeed: {selection_speed} records/sec')"
   ]
  },
  {
   "cell_type": "code",
   "execution_count": 193,
   "metadata": {},
   "outputs": [
    {
     "name": "stdout",
     "output_type": "stream",
     "text": [
      "0.0\n"
     ]
    },
    {
     "ename": "ZeroDivisionError",
     "evalue": "float division by zero",
     "output_type": "error",
     "traceback": [
      "\u001b[1;31m---------------------------------------------------------------------------\u001b[0m",
      "\u001b[1;31mZeroDivisionError\u001b[0m                         Traceback (most recent call last)",
      "Cell \u001b[1;32mIn[193], line 12\u001b[0m\n\u001b[0;32m      9\u001b[0m \u001b[38;5;28mprint\u001b[39m(selection_time)\n\u001b[0;32m     11\u001b[0m reviews_ratings_len \u001b[38;5;241m=\u001b[39m \u001b[38;5;28mlen\u001b[39m(\u001b[38;5;28mlist\u001b[39m(all_review_ratings))\n\u001b[1;32m---> 12\u001b[0m selection_speed: \u001b[38;5;28mfloat\u001b[39m \u001b[38;5;241m=\u001b[39m \u001b[38;5;28mround\u001b[39m(\u001b[43mreviews_ratings_len\u001b[49m\u001b[43m \u001b[49m\u001b[38;5;241;43m/\u001b[39;49m\u001b[43m \u001b[49m\u001b[43mselection_time\u001b[49m , \u001b[38;5;241m2\u001b[39m)\n\u001b[0;32m     14\u001b[0m \u001b[38;5;28mprint\u001b[39m(\u001b[38;5;124mf\u001b[39m\u001b[38;5;124m'\u001b[39m\u001b[38;5;124mSelect \u001b[39m\u001b[38;5;132;01m{\u001b[39;00mreviews_ratings_len\u001b[38;5;132;01m}\u001b[39;00m\u001b[38;5;124m elements.\u001b[39m\u001b[38;5;130;01m\\n\u001b[39;00m\u001b[38;5;124mSpeed: \u001b[39m\u001b[38;5;132;01m{\u001b[39;00mselection_speed\u001b[38;5;132;01m}\u001b[39;00m\u001b[38;5;124m records/sec\u001b[39m\u001b[38;5;124m'\u001b[39m)\n",
      "\u001b[1;31mZeroDivisionError\u001b[0m: float division by zero"
     ]
    }
   ],
   "source": [
    "# select review ratings\n",
    "with closing(get_mongo_client()) as client:\n",
    "    collection = client[DB]['review_rating']\n",
    "    start_time: float = time()\n",
    "\n",
    "    all_review_ratings = collection.find({})\n",
    "\n",
    "    selection_time: float = float(time() - start_time)\n",
    "    print(selection_time)\n",
    "\n",
    "    reviews_ratings_len = len(list(all_review_ratings))\n",
    "    selection_speed: float = round(reviews_ratings_len / selection_time , 2)\n",
    "\n",
    "    print(f'Select {reviews_ratings_len} elements.\\nSpeed: {selection_speed} records/sec')"
   ]
  },
  {
   "cell_type": "code",
   "execution_count": 175,
   "metadata": {},
   "outputs": [
    {
     "name": "stdout",
     "output_type": "stream",
     "text": [
      "{'_id': ObjectId('661540f54b124f2fc508d78d'), 'user_id': UUID('9b5ddd09-466a-4c22-b869-b8650d421c2f'), 'movie_id': UUID('49db14d9-0ad6-44dc-91bd-27286018b13c'), 'score': 10, 'text': 'No maybe happy nothing toward environmental. Agreement certainly quality yet according cost car remain.\\nItself try friend debate break. Eat total nice history avoid meet.', 'review_dt': datetime.datetime(2024, 2, 8, 23, 49, 2)}\n",
      "141.50101113319397\n",
      "Update 75000 elements.\n",
      "Speed: 530.031548180267 records/sec\n"
     ]
    }
   ],
   "source": [
    "# update review\n",
    "with closing(get_mongo_client()) as client:\n",
    "    collection = client[DB]['review']\n",
    "\n",
    "    all_reviews = list(collection.find({}))\n",
    "    reviews_len = len(all_reviews)\n",
    "\n",
    "    print(all_reviews[0])\n",
    "\n",
    "    start_time: float = time()\n",
    "    for review in all_reviews:\n",
    "        filter = {\n",
    "            'movie_id': review.get('movie_id'),\n",
    "            'user_id': review.get('user_id'),\n",
    "        }\n",
    "        new_values = {\n",
    "            'score': fake.random_int(min=0, max=10),\n",
    "            'text': fake.text(),\n",
    "            'review_dt': fake.date_time_between(start_date=\"-1y\", end_date=\"now\")\n",
    "        }\n",
    "\n",
    "        collection.update_one(filter, {'$set': new_values})\n",
    "\n",
    "    updation_time: float = float(time() - start_time)\n",
    "    print(updation_time)\n",
    "    updation_speed: float = reviews_len / updation_time\n",
    "\n",
    "    print(f'Update {reviews_len} elements.\\nSpeed: {updation_speed} records/sec')"
   ]
  }
 ],
 "metadata": {
  "kernelspec": {
   "display_name": "Python 3",
   "language": "python",
   "name": "python3"
  },
  "language_info": {
   "codemirror_mode": {
    "name": "ipython",
    "version": 3
   },
   "file_extension": ".py",
   "mimetype": "text/x-python",
   "name": "python",
   "nbconvert_exporter": "python",
   "pygments_lexer": "ipython3",
   "version": "3.12.1"
  }
 },
 "nbformat": 4,
 "nbformat_minor": 0
}
