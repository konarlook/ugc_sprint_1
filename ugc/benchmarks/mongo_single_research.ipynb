{
 "cells": [
  {
   "cell_type": "code",
   "execution_count": null,
   "metadata": {
    "ExecuteTime": {
     "end_time": "2023-06-23T15:43:16.312356Z",
     "start_time": "2023-06-23T15:43:16.230594Z"
    },
    "collapsed": false
   },
   "outputs": [],
   "source": [
    "%pip install --upgrade pip \n",
    "%pip install pymongo\n",
    "%pip install faker"
   ]
  },
  {
   "cell_type": "code",
   "execution_count": 80,
   "metadata": {},
   "outputs": [],
   "source": [
    "from enum import Enum\n",
    "from typing import List\n",
    "from uuid import UUID, uuid4\n",
    "from datetime import datetime\n",
    "from contextlib import closing\n",
    "from time import time\n",
    "from random import choice as random_choice\n",
    "\n",
    "from pymongo import MongoClient\n",
    "\n",
    "from faker import Faker"
   ]
  },
  {
   "cell_type": "code",
   "execution_count": 81,
   "metadata": {},
   "outputs": [],
   "source": [
    "USERNAME = 'bench_user'\n",
    "PASS = 'bench_pass'\n",
    "HOST = 'localhost'\n",
    "PORT = 27018\n",
    "DB = 'bench_db'\n",
    "\n",
    "def get_mongo_client():\n",
    "    return MongoClient(host=HOST,\n",
    "                       port=PORT,\n",
    "                       username=USERNAME,\n",
    "                       password=PASS,\n",
    "                       uuidRepresentation='standard')\n"
   ]
  },
  {
   "cell_type": "code",
   "execution_count": 92,
   "metadata": {},
   "outputs": [
    {
     "name": "stdout",
     "output_type": "stream",
     "text": [
      "['review_rating', 'bookmark']\n",
      "['review_rating', 'bookmark', 'review']\n"
     ]
    }
   ],
   "source": [
    "# create review collection\n",
    "with closing(get_mongo_client()) as client:\n",
    "   database = client[DB]\n",
    "\n",
    "   database.drop_collection('review')\n",
    "\n",
    "   print(database.list_collection_names())\n",
    "   review_schema = {\n",
    "         \"bsonType\": \"object\",\n",
    "         \"required\": [ \"id\", \"user_id\", \"movie_id\", \"score\", \"review_dt\"],\n",
    "         \"properties\": {\n",
    "            \"id\": {\n",
    "               \"bsonType\": \"binData\",\n",
    "            },\n",
    "            \"user_id\": {\n",
    "               \"bsonType\": \"binData\"\n",
    "            },\n",
    "            \"movie_id\": {\n",
    "               \"bsonType\": \"binData\"\n",
    "            },\n",
    "            \"score\": {\n",
    "               \"bsonType\": \"int\"\n",
    "            },\n",
    "            \"text\": {\n",
    "               \"bsonType\": \"string\"\n",
    "            },\n",
    "            \"review_dt\": {\n",
    "               \"bsonType\": \"date\"\n",
    "            }\n",
    "         }\n",
    "      }\n",
    "\n",
    "   review_collection = database.create_collection(\n",
    "      'review',\n",
    "      check_exists=False,\n",
    "      validator= {\n",
    "         '$jsonSchema': review_schema\n",
    "      })\n",
    "\n",
    "   print(database.list_collection_names())"
   ]
  },
  {
   "cell_type": "code",
   "execution_count": 95,
   "metadata": {},
   "outputs": [
    {
     "name": "stdout",
     "output_type": "stream",
     "text": [
      "['review_rating', 'review']\n",
      "['bookmark', 'review_rating', 'review']\n"
     ]
    }
   ],
   "source": [
    "# create bookmark collection\n",
    "with closing(get_mongo_client()) as client:\n",
    "   database = client[DB]\n",
    "\n",
    "   database.drop_collection('bookmark')\n",
    "\n",
    "   print(database.list_collection_names())\n",
    "   review_schema = {\n",
    "         \"bsonType\": \"object\",\n",
    "         \"required\": [ \"id\", \"user_id\", \"movie_id\"],\n",
    "         \"properties\": {\n",
    "            \"id\": {\n",
    "               \"bsonType\": \"binData\"\n",
    "            },\n",
    "            \"user_id\": {\n",
    "               \"bsonType\": \"binData\"\n",
    "            },\n",
    "            \"movie_id\": {\n",
    "               \"bsonType\": \"binData\"\n",
    "            }\n",
    "         }\n",
    "      }\n",
    "\n",
    "   review_collection = database.create_collection(\n",
    "      'bookmark',\n",
    "      check_exists=False,\n",
    "      validator= {\n",
    "         '$jsonSchema': review_schema\n",
    "      })\n",
    "\n",
    "   print(database.list_collection_names())"
   ]
  },
  {
   "cell_type": "code",
   "execution_count": 96,
   "metadata": {},
   "outputs": [
    {
     "name": "stdout",
     "output_type": "stream",
     "text": [
      "['bookmark', 'review']\n",
      "['bookmark', 'review_rating', 'review']\n"
     ]
    }
   ],
   "source": [
    "# create review_rating collection\n",
    "with closing(get_mongo_client()) as client:\n",
    "   database = client[DB]\n",
    "\n",
    "   database.drop_collection('review_rating')\n",
    "\n",
    "   print(database.list_collection_names())\n",
    "   review_schema = {\n",
    "         \"bsonType\": \"object\",\n",
    "         \"required\": [ \"id\", \"user_id\", \"review_id\", \"score\"],\n",
    "         \"properties\": {\n",
    "            \"id\": {\n",
    "               \"bsonType\": \"binData\"\n",
    "            },\n",
    "            \"user_id\": {\n",
    "               \"bsonType\": \"binData\"\n",
    "            },\n",
    "            \"review_id\": {\n",
    "               \"bsonType\": \"binData\"\n",
    "            },\n",
    "            \"score\": {\n",
    "               \"bsonType\": \"int\"\n",
    "            }\n",
    "         }\n",
    "      }\n",
    "\n",
    "   review_collection = database.create_collection(\n",
    "      'review_rating',\n",
    "      check_exists=False,\n",
    "      validator= {\n",
    "         '$jsonSchema': review_schema,\n",
    "         'score': {\n",
    "               '$in': [-1, 1]\n",
    "         }\n",
    "      })\n",
    "\n",
    "   print(database.list_collection_names())"
   ]
  },
  {
   "cell_type": "code",
   "execution_count": 89,
   "metadata": {},
   "outputs": [],
   "source": [
    "fake: Faker = Faker()\n",
    "\n",
    "USERS_COUNT = 50\n",
    "USERS_IDS = [uuid4() for _ in range(USERS_COUNT)]\n",
    "\n",
    "MOVIES_COUNT = 500\n",
    "MOVIES_IDS = [uuid4() for _ in range(MOVIES_COUNT)]\n",
    "\n",
    "REVIEWS_COUNT = USERS_COUNT * MOVIES_COUNT"
   ]
  },
  {
   "cell_type": "code",
   "execution_count": 93,
   "metadata": {},
   "outputs": [
    {
     "name": "stdout",
     "output_type": "stream",
     "text": [
      "Insertion speed: 989.93 records/sec\n"
     ]
    }
   ],
   "source": [
    "# insert review\n",
    "with closing(get_mongo_client()) as client:\n",
    "    collection = client[DB]['review']\n",
    "\n",
    "    start_time: float = time()\n",
    "    for user_id in USERS_IDS:\n",
    "        for movie_id in MOVIES_IDS:\n",
    "            new_review = {\n",
    "                'id': uuid4(),\n",
    "                'user_id': uuid4(),\n",
    "                'movie_id': uuid4(),\n",
    "                'score': fake.random_int(min=0, max=10),\n",
    "                'text': fake.text(),\n",
    "                'review_dt': fake.date_time_between(start_date=\"-1y\", end_date=\"now\")\n",
    "            }\n",
    "\n",
    "            collection.insert_one(new_review)\n",
    "\n",
    "    insertion_time: float = time() - start_time\n",
    "    insertion_speed: float = round(REVIEWS_COUNT / insertion_time, 2)\n",
    "\n",
    "    print('Insertion speed: {:,} records/sec'.format(insertion_speed))"
   ]
  },
  {
   "cell_type": "code",
   "execution_count": 98,
   "metadata": {},
   "outputs": [
    {
     "name": "stdout",
     "output_type": "stream",
     "text": [
      "Insertion speed: 1,205.91 records/sec\n"
     ]
    }
   ],
   "source": [
    "# insert bookmark\n",
    "with closing(get_mongo_client()) as client:\n",
    "    collection = client[DB]['bookmark']\n",
    "\n",
    "    start_time: float = time()\n",
    "    for user_id in USERS_IDS:\n",
    "        for movie_id in MOVIES_IDS:\n",
    "            new_bookmark = {\n",
    "                'id': uuid4(),\n",
    "                'user_id': uuid4(),\n",
    "                'movie_id': uuid4()\n",
    "            }\n",
    "            collection.insert_one(new_bookmark)\n",
    "\n",
    "    insertion_time: float = time() - start_time\n",
    "    insertion_speed: float = round(REVIEWS_COUNT / insertion_time, 2)\n",
    "\n",
    "    print('Insertion speed: {:,} records/sec'.format(insertion_speed))"
   ]
  },
  {
   "cell_type": "code",
   "execution_count": 105,
   "metadata": {},
   "outputs": [
    {
     "name": "stdout",
     "output_type": "stream",
     "text": [
      "Insertion speed: 715.14 records/sec\n"
     ]
    }
   ],
   "source": [
    "# insert review rating\n",
    "with closing(get_mongo_client()) as client:\n",
    "    collection = client[DB]['review_rating']\n",
    "\n",
    "    query_result = client[DB]['review'].find({})\n",
    "    all_reviews_ids = [review.get('id') for review in query_result][:200]\n",
    "\n",
    "    start_time: float = time()\n",
    "    for user_id in USERS_IDS[:200]:\n",
    "        for review_id in all_reviews_ids:\n",
    "            score = random_choice([-1, 1])\n",
    "            new_review_rating = {\n",
    "                'id': uuid4(),\n",
    "                'user_id': uuid4(),\n",
    "                'review_id': uuid4(),\n",
    "                'score': score\n",
    "            }\n",
    "            collection.insert_one(new_review_rating)\n",
    "\n",
    "    insertion_time: float = time() - start_time\n",
    "    insertion_speed: float = round((REVIEWS_COUNT / 4) / insertion_time, 2)\n",
    "\n",
    "    print('Insertion speed: {:,} records/sec'.format(insertion_speed))"
   ]
  },
  {
   "cell_type": "code",
   "execution_count": 118,
   "metadata": {},
   "outputs": [
    {
     "name": "stdout",
     "output_type": "stream",
     "text": [
      "Selecting speed: 24,972,040.96 records/sec\n"
     ]
    }
   ],
   "source": [
    "# select review\n",
    "with closing(get_mongo_client()) as client:\n",
    "    collection = client[DB]['review']\n",
    "    start_time: float = time()\n",
    "    all_reviews = collection.find({})\n",
    "\n",
    "    insertion_time: float = time() - start_time\n",
    "    insertion_speed: float = round(REVIEWS_COUNT / insertion_time , 2)\n",
    "\n",
    "    print('Selecting speed: {:,} records/sec'.format(insertion_speed))"
   ]
  },
  {
   "cell_type": "code",
   "execution_count": 120,
   "metadata": {},
   "outputs": [
    {
     "name": "stdout",
     "output_type": "stream",
     "text": [
      "Selecting speed: 76,594,302.41 records/sec\n"
     ]
    }
   ],
   "source": [
    "# select bookmarks\n",
    "with closing(get_mongo_client()) as client:\n",
    "    collection = client[DB]['bookmark']\n",
    "    start_time: float = time()\n",
    "    all_bookmarks = collection.find({})\n",
    "\n",
    "    insertion_time: float = time() - start_time\n",
    "    insertion_speed: float = round(REVIEWS_COUNT / insertion_time , 2)\n",
    "\n",
    "    print('Selecting speed: {:,} records/sec'.format(insertion_speed))"
   ]
  },
  {
   "cell_type": "code",
   "execution_count": 122,
   "metadata": {},
   "outputs": [
    {
     "name": "stdout",
     "output_type": "stream",
     "text": [
      "Selecting speed: 24,918,631.18 records/sec\n"
     ]
    }
   ],
   "source": [
    "# select review ratings\n",
    "with closing(get_mongo_client()) as client:\n",
    "    collection = client[DB]['review_rating']\n",
    "    start_time: float = time()\n",
    "    all_review_ratings = collection.find({})\n",
    "\n",
    "    insertion_time: float = time() - start_time\n",
    "    insertion_speed: float = round(REVIEWS_COUNT / insertion_time , 2)\n",
    "\n",
    "    print('Selecting speed: {:,} records/sec'.format(insertion_speed))"
   ]
  },
  {
   "cell_type": "code",
   "execution_count": null,
   "metadata": {},
   "outputs": [],
   "source": [
    "# ДОБАВИТЬ UPDATE reviews"
   ]
  }
 ],
 "metadata": {
  "kernelspec": {
   "display_name": "Python 3",
   "language": "python",
   "name": "python3"
  },
  "language_info": {
   "codemirror_mode": {
    "name": "ipython",
    "version": 3
   },
   "file_extension": ".py",
   "mimetype": "text/x-python",
   "name": "python",
   "nbconvert_exporter": "python",
   "pygments_lexer": "ipython3",
   "version": "3.10.11"
  }
 },
 "nbformat": 4,
 "nbformat_minor": 0
}
