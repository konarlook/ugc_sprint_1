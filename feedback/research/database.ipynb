{
 "cells": [
  {
   "cell_type": "markdown",
   "source": [
    "# Выбор хранилища для задачи"
   ],
   "metadata": {
    "collapsed": false
   },
   "id": "c76a9ede42e824f9"
  },
  {
   "cell_type": "code",
   "outputs": [],
   "source": [],
   "metadata": {
    "collapsed": false,
    "ExecuteTime": {
     "end_time": "2024-04-06T20:34:00.662408Z",
     "start_time": "2024-04-06T20:34:00.660154Z"
    }
   },
   "id": "c4500a0026fb50fe",
   "execution_count": 1
  },
  {
   "cell_type": "markdown",
   "source": [
    "# Генерация данных в хранилище"
   ],
   "metadata": {
    "collapsed": false
   },
   "id": "988a2fd512c52f95"
  },
  {
   "cell_type": "code",
   "outputs": [],
   "source": [],
   "metadata": {
    "collapsed": false,
    "ExecuteTime": {
     "end_time": "2024-04-06T20:34:00.997812Z",
     "start_time": "2024-04-06T20:34:00.995926Z"
    }
   },
   "id": "249a64375d68d0e",
   "execution_count": 1
  },
  {
   "cell_type": "markdown",
   "source": [
    "# Измерение скорости добавления и чтения\n",
    "## Тестирование чтения уже загруженных данных.\n",
    "### Список понравившихся пользователю фильмов"
   ],
   "metadata": {
    "collapsed": false
   },
   "id": "9219e50e9d082b4f"
  },
  {
   "cell_type": "code",
   "outputs": [],
   "source": [],
   "metadata": {
    "collapsed": false,
    "ExecuteTime": {
     "end_time": "2024-04-06T20:34:02.975655Z",
     "start_time": "2024-04-06T20:34:02.973605Z"
    }
   },
   "id": "c22f4cf6028b6b13",
   "execution_count": 1
  },
  {
   "cell_type": "markdown",
   "source": [],
   "metadata": {
    "collapsed": false
   },
   "id": "281af9586e8a19d"
  },
  {
   "cell_type": "markdown",
   "source": [
    "### Количество лайков или дизлайков у определенного фильма"
   ],
   "metadata": {
    "collapsed": false
   },
   "id": "e4f118e8d3cc6489"
  },
  {
   "cell_type": "code",
   "outputs": [],
   "source": [],
   "metadata": {
    "collapsed": false
   },
   "id": "9dda0cab88688a00"
  },
  {
   "cell_type": "markdown",
   "source": [
    "### Список закладок"
   ],
   "metadata": {
    "collapsed": false
   },
   "id": "4a24494214345516"
  },
  {
   "cell_type": "code",
   "outputs": [],
   "source": [],
   "metadata": {
    "collapsed": false,
    "ExecuteTime": {
     "end_time": "2024-04-06T20:36:13.342875Z",
     "start_time": "2024-04-06T20:36:13.340964Z"
    }
   },
   "id": "bdf86fa070b47a40",
   "execution_count": 1
  },
  {
   "cell_type": "markdown",
   "source": [
    "### Средняя пользовательская оценка"
   ],
   "metadata": {
    "collapsed": false
   },
   "id": "2787d32342d5489f"
  },
  {
   "cell_type": "code",
   "outputs": [],
   "source": [],
   "metadata": {
    "collapsed": false
   },
   "id": "146adcf0a26d973"
  },
  {
   "cell_type": "markdown",
   "source": [
    "## Тестирование чтения данных, поступающих в реальном времени\n",
    "### Добавление лайка или дизлайка и время появления лайка или дизлайка"
   ],
   "metadata": {
    "collapsed": false
   },
   "id": "6cdea710202935ac"
  },
  {
   "cell_type": "code",
   "outputs": [],
   "source": [],
   "metadata": {
    "collapsed": false
   },
   "id": "8fd2da0102830c2a"
  }
 ],
 "metadata": {
  "kernelspec": {
   "display_name": "Python 3",
   "language": "python",
   "name": "python3"
  },
  "language_info": {
   "codemirror_mode": {
    "name": "ipython",
    "version": 2
   },
   "file_extension": ".py",
   "mimetype": "text/x-python",
   "name": "python",
   "nbconvert_exporter": "python",
   "pygments_lexer": "ipython2",
   "version": "2.7.6"
  }
 },
 "nbformat": 4,
 "nbformat_minor": 5
}
