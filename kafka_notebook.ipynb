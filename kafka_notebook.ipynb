{
 "cells": [
  {
   "cell_type": "code",
   "execution_count": 74,
   "id": "425e8aad-bdbb-472e-b532-97a5945dc6c6",
   "metadata": {
    "ExecuteTime": {
     "end_time": "2024-03-31T11:07:01.082399600Z",
     "start_time": "2024-03-31T11:07:01.062726800Z"
    }
   },
   "outputs": [],
   "source": [
    "import json\n",
    "import uuid\n",
    "from typing import Final\n",
    "\n",
    "from kafka.admin import KafkaAdminClient, NewTopic\n",
    "from pydantic import ConfigDict\n",
    "from pydantic_settings import BaseSettings\n",
    "from typing import Dict\n",
    "from faker import Faker\n",
    "from kafka import KafkaProducer\n",
    "from kafka import KafkaConsumer"
   ]
  },
  {
   "cell_type": "markdown",
   "source": [
    "Admin"
   ],
   "metadata": {
    "collapsed": false
   },
   "id": "376b2298540f5693"
  },
  {
   "cell_type": "code",
   "outputs": [],
   "source": [
    "class TopicConfig(BaseSettings):\n",
    "    topic_name: str\n",
    "    num_partitions: int\n",
    "    replication_factor: int\n",
    "    topic_configs: Dict[str, str]\n",
    "    model_config = ConfigDict(strict=True)"
   ],
   "metadata": {
    "collapsed": false,
    "ExecuteTime": {
     "end_time": "2024-03-31T08:50:37.264854200Z",
     "start_time": "2024-03-31T08:50:37.214563400Z"
    }
   },
   "id": "c17f1d00ff7aaba4",
   "execution_count": 18
  },
  {
   "cell_type": "code",
   "outputs": [],
   "source": [
    "def get_topic_json_config(path_to_json: str) -> dict:\n",
    "    with open(path_to_json, \"r\") as fp:\n",
    "        index_mapping = json.load(fp)\n",
    "    return index_mapping"
   ],
   "metadata": {
    "collapsed": false,
    "ExecuteTime": {
     "end_time": "2024-03-31T08:50:37.551621900Z",
     "start_time": "2024-03-31T08:50:37.525620700Z"
    }
   },
   "id": "d5ef199c4ec75b5e",
   "execution_count": 19
  },
  {
   "cell_type": "code",
   "outputs": [],
   "source": [
    "TOPIC_LIST: Final[list] = [\"click_events\", \"player_settings_events\", \"player_progress\"]\n",
    "\n",
    "\n",
    "class KafkaInit:\n",
    "    def __init__(self):\n",
    "        self.topics_list = []\n",
    "        self.admin_client = KafkaAdminClient(\n",
    "            bootstrap_servers=\"localhost:9094\",\n",
    "            client_id='test'\n",
    "        )\n",
    "\n",
    "    def append_topic(self, topic_config: TopicConfig):\n",
    "        if topic_config.topic_name not in self.admin_client.list_topics():\n",
    "            self.topics_list.append(\n",
    "                NewTopic(\n",
    "                    name=topic_config.topic_name,\n",
    "                    num_partitions=topic_config.num_partitions,\n",
    "                    replication_factor=topic_config.replication_factor,\n",
    "                    topic_configs=topic_config.topic_configs,\n",
    "                )\n",
    "            )\n",
    "\n",
    "    def create_topics(self):\n",
    "        for this_topic in TOPIC_LIST:\n",
    "            try:\n",
    "                json_config = get_topic_json_config(f\"topics_config/{this_topic}.json\")\n",
    "                topic_config = TopicConfig(**json_config)\n",
    "                self.append_topic(topic_config=topic_config)\n",
    "            except Exception:\n",
    "                ...\n",
    "        try:\n",
    "            self.admin_client.create_topics(new_topics=self.topics_list, validate_only=False)\n",
    "            print(\"Done!\")\n",
    "        except Exception:\n",
    "            ...\n",
    "\n",
    "\n",
    "def get_kafka_init() -> KafkaInit:\n",
    "    return KafkaInit()"
   ],
   "metadata": {
    "collapsed": false,
    "ExecuteTime": {
     "end_time": "2024-03-31T08:50:38.295760800Z",
     "start_time": "2024-03-31T08:50:38.261122800Z"
    }
   },
   "id": "4c377f8179c0eec6",
   "execution_count": 20
  },
  {
   "cell_type": "code",
   "outputs": [
    {
     "name": "stdout",
     "output_type": "stream",
     "text": [
      "Done!\n"
     ]
    }
   ],
   "source": [
    "KafkaInit().create_topics()"
   ],
   "metadata": {
    "collapsed": false,
    "ExecuteTime": {
     "end_time": "2024-03-31T08:50:39.424592100Z",
     "start_time": "2024-03-31T08:50:38.871694900Z"
    }
   },
   "id": "da9df71b3ca0e70f",
   "execution_count": 21
  },
  {
   "cell_type": "markdown",
   "source": [
    "Kafka Schemas"
   ],
   "metadata": {
    "collapsed": false
   },
   "id": "d91f78318a4dae26"
  },
  {
   "cell_type": "code",
   "outputs": [],
   "source": [
    "from enum import Enum\n",
    "from pydantic import Field, field_validator, model_validator\n",
    "import datetime\n",
    "from uuid import UUID\n",
    "\n",
    "class EventsNames(Enum):\n",
    "    change_resolution_to_480 = \"change_resolution_to_480\"\n",
    "    change_resolution_to_720 = \"change_resolution_to_720\"\n",
    "    change_resolution_to_1080 = \"change_resolution_to_1080\"\n",
    "    change_resolution_to_1440 = \"change_resolution_to_1440\"\n",
    "    change_resolution_to_2160 = \"change_resolution_to_2160\"\n",
    "\n",
    "class KafkaModelConfig(BaseSettings):\n",
    "    model_config = ConfigDict(populate_by_name=True)\n",
    "\n",
    "class PlayerProgress(KafkaModelConfig):\n",
    "    user_id: UUID = Field(description=\"UUID пользователя\")\n",
    "    movie_id: UUID = Field(description=\"UUID произведения\")\n",
    "    event_dt: datetime.datetime = Field(default_factory=datetime.datetime.utcnow, description=\"Время события\")\n",
    "    view_progress: int = Field(description=\"Прогресс просмотра произведения в секундах\")\n",
    "    movie_duration: int = Field(description=\"Продолжительность произведения в секундах\")\n",
    "    \n",
    "    @model_validator(mode='after')\n",
    "    def compare_duration_and_view(self):\n",
    "        if self.view_progress > self.movie_duration:\n",
    "            raise ValueError(\"view_progress is larger than movie_duration\")\n",
    "        return self\n",
    "    \n",
    "    \n",
    "class PlayerSettingEvents(KafkaModelConfig):\n",
    "    user_id: UUID = Field(description=\"UUID пользователя\")\n",
    "    movie_id: UUID = Field(description=\"UUID произведения\")\n",
    "    event_dt: datetime.datetime = Field(default_factory=datetime.datetime.utcnow, description=\"Время события\")\n",
    "    event_type: int = Field(description=\"Тип события\")\n",
    "    \n",
    "class ClickEvent(KafkaModelConfig):\n",
    "    user_id: UUID = Field(description=\"UUID пользователя\")\n",
    "    movie_id: UUID = Field(description=\"UUID произведения\")\n",
    "    current_url: str = Field(default_factory=datetime.datetime.utcnow, description=\"Время события\")\n",
    "    destination_url: str = Field(description=\"Тип события\")\n"
   ],
   "metadata": {
    "collapsed": false,
    "ExecuteTime": {
     "end_time": "2024-03-31T11:07:05.661742300Z",
     "start_time": "2024-03-31T11:07:04.820096100Z"
    }
   },
   "id": "907bdf8fd1ed6b42",
   "execution_count": 75
  },
  {
   "cell_type": "markdown",
   "source": [
    "Producer"
   ],
   "metadata": {
    "collapsed": false
   },
   "id": "2d32af297e5ac575"
  },
  {
   "cell_type": "code",
   "outputs": [],
   "source": [
    "class Producer:\n",
    "    def __init__(self):\n",
    "        self.producer = KafkaProducer(bootstrap_servers=['localhost:9094'], acks=\"all\")\n",
    "        \n",
    "    def produce_message(self,  topic_name: str, message: KafkaModelConfig):\n",
    "        # TODO: Посмотреть нужно ли записывать во все партиции\n",
    "        self.producer.send(\n",
    "            topic=topic_name,\n",
    "            value=message.model_dump_json().encode(\"utf-8\"),\n",
    "        )\n",
    "        self.producer.flush()\n",
    "        \n",
    "def get_producer() -> Producer:\n",
    "    return Producer()"
   ],
   "metadata": {
    "collapsed": false,
    "ExecuteTime": {
     "end_time": "2024-03-31T11:07:06.955452900Z",
     "start_time": "2024-03-31T11:07:06.923616200Z"
    }
   },
   "id": "c2487b43a330bd53",
   "execution_count": 76
  },
  {
   "cell_type": "code",
   "outputs": [
    {
     "ename": "KeyboardInterrupt",
     "evalue": "",
     "output_type": "error",
     "traceback": [
      "\u001B[1;31m---------------------------------------------------------------------------\u001B[0m",
      "\u001B[1;31mKeyboardInterrupt\u001B[0m                         Traceback (most recent call last)",
      "Cell \u001B[1;32mIn[77], line 14\u001B[0m\n\u001B[0;32m      6\u001B[0m view_progress \u001B[38;5;241m=\u001B[39m fake\u001B[38;5;241m.\u001B[39mpyint(min_value\u001B[38;5;241m=\u001B[39m\u001B[38;5;241m1\u001B[39m, max_value\u001B[38;5;241m=\u001B[39mduration)\n\u001B[0;32m      7\u001B[0m this_message \u001B[38;5;241m=\u001B[39m PlayerProgress(\n\u001B[0;32m      8\u001B[0m     user_id\u001B[38;5;241m=\u001B[39mfake\u001B[38;5;241m.\u001B[39muuid4(),\n\u001B[0;32m      9\u001B[0m     movie_id\u001B[38;5;241m=\u001B[39mfake\u001B[38;5;241m.\u001B[39muuid4(),\n\u001B[1;32m   (...)\u001B[0m\n\u001B[0;32m     12\u001B[0m     movie_duration\u001B[38;5;241m=\u001B[39mduration,\n\u001B[0;32m     13\u001B[0m )\n\u001B[1;32m---> 14\u001B[0m \u001B[43mproducer\u001B[49m\u001B[38;5;241;43m.\u001B[39;49m\u001B[43mproduce_message\u001B[49m\u001B[43m(\u001B[49m\n\u001B[0;32m     15\u001B[0m \u001B[43m    \u001B[49m\u001B[43mtopic_name\u001B[49m\u001B[38;5;241;43m=\u001B[39;49m\u001B[38;5;124;43m'\u001B[39;49m\u001B[38;5;124;43mplayer_progress\u001B[39;49m\u001B[38;5;124;43m'\u001B[39;49m\u001B[43m,\u001B[49m\n\u001B[0;32m     16\u001B[0m \u001B[43m    \u001B[49m\u001B[43mmessage\u001B[49m\u001B[38;5;241;43m=\u001B[39;49m\u001B[43mthis_message\u001B[49m\u001B[43m,\u001B[49m\n\u001B[0;32m     17\u001B[0m \u001B[43m\u001B[49m\u001B[43m)\u001B[49m\n",
      "Cell \u001B[1;32mIn[76], line 11\u001B[0m, in \u001B[0;36mProducer.produce_message\u001B[1;34m(self, topic_name, message)\u001B[0m\n\u001B[0;32m      5\u001B[0m \u001B[38;5;28;01mdef\u001B[39;00m \u001B[38;5;21mproduce_message\u001B[39m(\u001B[38;5;28mself\u001B[39m,  topic_name: \u001B[38;5;28mstr\u001B[39m, message: KafkaModelConfig):\n\u001B[0;32m      6\u001B[0m     \u001B[38;5;66;03m# TODO: Посмотреть нужно ли записывать во все партиции\u001B[39;00m\n\u001B[0;32m      7\u001B[0m     \u001B[38;5;28mself\u001B[39m\u001B[38;5;241m.\u001B[39mproducer\u001B[38;5;241m.\u001B[39msend(\n\u001B[0;32m      8\u001B[0m         topic\u001B[38;5;241m=\u001B[39mtopic_name,\n\u001B[0;32m      9\u001B[0m         value\u001B[38;5;241m=\u001B[39mmessage\u001B[38;5;241m.\u001B[39mmodel_dump_json()\u001B[38;5;241m.\u001B[39mencode(\u001B[38;5;124m\"\u001B[39m\u001B[38;5;124mutf-8\u001B[39m\u001B[38;5;124m\"\u001B[39m),\n\u001B[0;32m     10\u001B[0m     )\n\u001B[1;32m---> 11\u001B[0m     \u001B[38;5;28;43mself\u001B[39;49m\u001B[38;5;241;43m.\u001B[39;49m\u001B[43mproducer\u001B[49m\u001B[38;5;241;43m.\u001B[39;49m\u001B[43mflush\u001B[49m\u001B[43m(\u001B[49m\u001B[43m)\u001B[49m\n",
      "File \u001B[1;32mD:\\Git\\Pythom-Middle-Developer\\ugc_sprint_1\\venv\\lib\\site-packages\\kafka\\producer\\kafka.py:649\u001B[0m, in \u001B[0;36mKafkaProducer.flush\u001B[1;34m(self, timeout)\u001B[0m\n\u001B[0;32m    647\u001B[0m \u001B[38;5;28mself\u001B[39m\u001B[38;5;241m.\u001B[39m_accumulator\u001B[38;5;241m.\u001B[39mbegin_flush()\n\u001B[0;32m    648\u001B[0m \u001B[38;5;28mself\u001B[39m\u001B[38;5;241m.\u001B[39m_sender\u001B[38;5;241m.\u001B[39mwakeup()\n\u001B[1;32m--> 649\u001B[0m \u001B[38;5;28;43mself\u001B[39;49m\u001B[38;5;241;43m.\u001B[39;49m\u001B[43m_accumulator\u001B[49m\u001B[38;5;241;43m.\u001B[39;49m\u001B[43mawait_flush_completion\u001B[49m\u001B[43m(\u001B[49m\u001B[43mtimeout\u001B[49m\u001B[38;5;241;43m=\u001B[39;49m\u001B[43mtimeout\u001B[49m\u001B[43m)\u001B[49m\n",
      "File \u001B[1;32mD:\\Git\\Pythom-Middle-Developer\\ugc_sprint_1\\venv\\lib\\site-packages\\kafka\\producer\\record_accumulator.py:528\u001B[0m, in \u001B[0;36mRecordAccumulator.await_flush_completion\u001B[1;34m(self, timeout)\u001B[0m\n\u001B[0;32m    525\u001B[0m \u001B[38;5;28;01mfor\u001B[39;00m batch \u001B[38;5;129;01min\u001B[39;00m \u001B[38;5;28mself\u001B[39m\u001B[38;5;241m.\u001B[39m_incomplete\u001B[38;5;241m.\u001B[39mall():\n\u001B[0;32m    526\u001B[0m     log\u001B[38;5;241m.\u001B[39mdebug(\u001B[38;5;124m'\u001B[39m\u001B[38;5;124mWaiting on produce to \u001B[39m\u001B[38;5;132;01m%s\u001B[39;00m\u001B[38;5;124m'\u001B[39m,\n\u001B[0;32m    527\u001B[0m               batch\u001B[38;5;241m.\u001B[39mproduce_future\u001B[38;5;241m.\u001B[39mtopic_partition)\n\u001B[1;32m--> 528\u001B[0m     \u001B[38;5;28;01mif\u001B[39;00m \u001B[38;5;129;01mnot\u001B[39;00m \u001B[43mbatch\u001B[49m\u001B[38;5;241;43m.\u001B[39;49m\u001B[43mproduce_future\u001B[49m\u001B[38;5;241;43m.\u001B[39;49m\u001B[43mwait\u001B[49m\u001B[43m(\u001B[49m\u001B[43mtimeout\u001B[49m\u001B[38;5;241;43m=\u001B[39;49m\u001B[43mtimeout\u001B[49m\u001B[43m)\u001B[49m:\n\u001B[0;32m    529\u001B[0m         \u001B[38;5;28;01mraise\u001B[39;00m Errors\u001B[38;5;241m.\u001B[39mKafkaTimeoutError(\u001B[38;5;124m'\u001B[39m\u001B[38;5;124mTimeout waiting for future\u001B[39m\u001B[38;5;124m'\u001B[39m)\n\u001B[0;32m    530\u001B[0m     \u001B[38;5;28;01mif\u001B[39;00m \u001B[38;5;129;01mnot\u001B[39;00m batch\u001B[38;5;241m.\u001B[39mproduce_future\u001B[38;5;241m.\u001B[39mis_done:\n",
      "File \u001B[1;32mD:\\Git\\Pythom-Middle-Developer\\ugc_sprint_1\\venv\\lib\\site-packages\\kafka\\producer\\future.py:28\u001B[0m, in \u001B[0;36mFutureProduceResult.wait\u001B[1;34m(self, timeout)\u001B[0m\n\u001B[0;32m     26\u001B[0m \u001B[38;5;28;01mdef\u001B[39;00m \u001B[38;5;21mwait\u001B[39m(\u001B[38;5;28mself\u001B[39m, timeout\u001B[38;5;241m=\u001B[39m\u001B[38;5;28;01mNone\u001B[39;00m):\n\u001B[0;32m     27\u001B[0m     \u001B[38;5;66;03m# wait() on python2.6 returns None instead of the flag value\u001B[39;00m\n\u001B[1;32m---> 28\u001B[0m     \u001B[38;5;28;01mreturn\u001B[39;00m \u001B[38;5;28;43mself\u001B[39;49m\u001B[38;5;241;43m.\u001B[39;49m\u001B[43m_latch\u001B[49m\u001B[38;5;241;43m.\u001B[39;49m\u001B[43mwait\u001B[49m\u001B[43m(\u001B[49m\u001B[43mtimeout\u001B[49m\u001B[43m)\u001B[49m \u001B[38;5;129;01mor\u001B[39;00m \u001B[38;5;28mself\u001B[39m\u001B[38;5;241m.\u001B[39m_latch\u001B[38;5;241m.\u001B[39mis_set()\n",
      "File \u001B[1;32m~\\AppData\\Local\\Programs\\Python\\Python39\\lib\\threading.py:574\u001B[0m, in \u001B[0;36mEvent.wait\u001B[1;34m(self, timeout)\u001B[0m\n\u001B[0;32m    572\u001B[0m signaled \u001B[38;5;241m=\u001B[39m \u001B[38;5;28mself\u001B[39m\u001B[38;5;241m.\u001B[39m_flag\n\u001B[0;32m    573\u001B[0m \u001B[38;5;28;01mif\u001B[39;00m \u001B[38;5;129;01mnot\u001B[39;00m signaled:\n\u001B[1;32m--> 574\u001B[0m     signaled \u001B[38;5;241m=\u001B[39m \u001B[38;5;28;43mself\u001B[39;49m\u001B[38;5;241;43m.\u001B[39;49m\u001B[43m_cond\u001B[49m\u001B[38;5;241;43m.\u001B[39;49m\u001B[43mwait\u001B[49m\u001B[43m(\u001B[49m\u001B[43mtimeout\u001B[49m\u001B[43m)\u001B[49m\n\u001B[0;32m    575\u001B[0m \u001B[38;5;28;01mreturn\u001B[39;00m signaled\n",
      "File \u001B[1;32m~\\AppData\\Local\\Programs\\Python\\Python39\\lib\\threading.py:312\u001B[0m, in \u001B[0;36mCondition.wait\u001B[1;34m(self, timeout)\u001B[0m\n\u001B[0;32m    310\u001B[0m \u001B[38;5;28;01mtry\u001B[39;00m:    \u001B[38;5;66;03m# restore state no matter what (e.g., KeyboardInterrupt)\u001B[39;00m\n\u001B[0;32m    311\u001B[0m     \u001B[38;5;28;01mif\u001B[39;00m timeout \u001B[38;5;129;01mis\u001B[39;00m \u001B[38;5;28;01mNone\u001B[39;00m:\n\u001B[1;32m--> 312\u001B[0m         \u001B[43mwaiter\u001B[49m\u001B[38;5;241;43m.\u001B[39;49m\u001B[43macquire\u001B[49m\u001B[43m(\u001B[49m\u001B[43m)\u001B[49m\n\u001B[0;32m    313\u001B[0m         gotit \u001B[38;5;241m=\u001B[39m \u001B[38;5;28;01mTrue\u001B[39;00m\n\u001B[0;32m    314\u001B[0m     \u001B[38;5;28;01melse\u001B[39;00m:\n",
      "\u001B[1;31mKeyboardInterrupt\u001B[0m: "
     ]
    }
   ],
   "source": [
    "fake = Faker()\n",
    "producer = get_producer()\n",
    "\n",
    "for i in range(10_000_000):\n",
    "    duration = fake.pyint(min_value=1000, max_value=3*1000)\n",
    "    view_progress = fake.pyint(min_value=1, max_value=duration)\n",
    "    this_message = PlayerProgress(\n",
    "        user_id=fake.uuid4(),\n",
    "        movie_id=fake.uuid4(),\n",
    "        event_dt=fake.date_time(),\n",
    "        view_progress=view_progress,\n",
    "        movie_duration=duration,\n",
    "    )\n",
    "    producer.produce_message(\n",
    "        topic_name='player_progress',\n",
    "        message=this_message,\n",
    "    )"
   ],
   "metadata": {
    "collapsed": false,
    "ExecuteTime": {
     "end_time": "2024-03-31T11:07:27.787336600Z",
     "start_time": "2024-03-31T11:07:10.350726400Z"
    }
   },
   "id": "be914f971e77304c",
   "execution_count": 77
  },
  {
   "cell_type": "code",
   "outputs": [
    {
     "ename": "KeyboardInterrupt",
     "evalue": "",
     "output_type": "error",
     "traceback": [
      "\u001B[1;31m---------------------------------------------------------------------------\u001B[0m",
      "\u001B[1;31mKeyboardInterrupt\u001B[0m                         Traceback (most recent call last)",
      "Cell \u001B[1;32mIn[78], line 10\u001B[0m\n\u001B[0;32m      3\u001B[0m view_progress \u001B[38;5;241m=\u001B[39m fake\u001B[38;5;241m.\u001B[39mpyint(min_value\u001B[38;5;241m=\u001B[39m\u001B[38;5;241m1\u001B[39m, max_value\u001B[38;5;241m=\u001B[39mduration)\n\u001B[0;32m      4\u001B[0m this_message \u001B[38;5;241m=\u001B[39m ClickEvent(\n\u001B[0;32m      5\u001B[0m     user_id\u001B[38;5;241m=\u001B[39mfake\u001B[38;5;241m.\u001B[39muuid4(),\n\u001B[0;32m      6\u001B[0m     movie_id\u001B[38;5;241m=\u001B[39mfake\u001B[38;5;241m.\u001B[39muuid4(),\n\u001B[0;32m      7\u001B[0m     current_url\u001B[38;5;241m=\u001B[39mfake\u001B[38;5;241m.\u001B[39murl(),\n\u001B[0;32m      8\u001B[0m     destination_url\u001B[38;5;241m=\u001B[39mfake\u001B[38;5;241m.\u001B[39murl(),\n\u001B[0;32m      9\u001B[0m )\n\u001B[1;32m---> 10\u001B[0m \u001B[43mproducer\u001B[49m\u001B[38;5;241;43m.\u001B[39;49m\u001B[43mproduce_message\u001B[49m\u001B[43m(\u001B[49m\n\u001B[0;32m     11\u001B[0m \u001B[43m    \u001B[49m\u001B[43mtopic_name\u001B[49m\u001B[38;5;241;43m=\u001B[39;49m\u001B[38;5;124;43m'\u001B[39;49m\u001B[38;5;124;43mclick_events\u001B[39;49m\u001B[38;5;124;43m'\u001B[39;49m\u001B[43m,\u001B[49m\n\u001B[0;32m     12\u001B[0m \u001B[43m    \u001B[49m\u001B[43mmessage\u001B[49m\u001B[38;5;241;43m=\u001B[39;49m\u001B[43mthis_message\u001B[49m\u001B[43m,\u001B[49m\n\u001B[0;32m     13\u001B[0m \u001B[43m\u001B[49m\u001B[43m)\u001B[49m\n",
      "Cell \u001B[1;32mIn[76], line 7\u001B[0m, in \u001B[0;36mProducer.produce_message\u001B[1;34m(self, topic_name, message)\u001B[0m\n\u001B[0;32m      5\u001B[0m \u001B[38;5;28;01mdef\u001B[39;00m \u001B[38;5;21mproduce_message\u001B[39m(\u001B[38;5;28mself\u001B[39m,  topic_name: \u001B[38;5;28mstr\u001B[39m, message: KafkaModelConfig):\n\u001B[0;32m      6\u001B[0m     \u001B[38;5;66;03m# TODO: Посмотреть нужно ли записывать во все партиции\u001B[39;00m\n\u001B[1;32m----> 7\u001B[0m     \u001B[38;5;28;43mself\u001B[39;49m\u001B[38;5;241;43m.\u001B[39;49m\u001B[43mproducer\u001B[49m\u001B[38;5;241;43m.\u001B[39;49m\u001B[43msend\u001B[49m\u001B[43m(\u001B[49m\n\u001B[0;32m      8\u001B[0m \u001B[43m        \u001B[49m\u001B[43mtopic\u001B[49m\u001B[38;5;241;43m=\u001B[39;49m\u001B[43mtopic_name\u001B[49m\u001B[43m,\u001B[49m\n\u001B[0;32m      9\u001B[0m \u001B[43m        \u001B[49m\u001B[43mvalue\u001B[49m\u001B[38;5;241;43m=\u001B[39;49m\u001B[43mmessage\u001B[49m\u001B[38;5;241;43m.\u001B[39;49m\u001B[43mmodel_dump_json\u001B[49m\u001B[43m(\u001B[49m\u001B[43m)\u001B[49m\u001B[38;5;241;43m.\u001B[39;49m\u001B[43mencode\u001B[49m\u001B[43m(\u001B[49m\u001B[38;5;124;43m\"\u001B[39;49m\u001B[38;5;124;43mutf-8\u001B[39;49m\u001B[38;5;124;43m\"\u001B[39;49m\u001B[43m)\u001B[49m\u001B[43m,\u001B[49m\n\u001B[0;32m     10\u001B[0m \u001B[43m    \u001B[49m\u001B[43m)\u001B[49m\n\u001B[0;32m     11\u001B[0m     \u001B[38;5;28mself\u001B[39m\u001B[38;5;241m.\u001B[39mproducer\u001B[38;5;241m.\u001B[39mflush()\n",
      "File \u001B[1;32mD:\\Git\\Pythom-Middle-Developer\\ugc_sprint_1\\venv\\lib\\site-packages\\kafka\\producer\\kafka.py:608\u001B[0m, in \u001B[0;36mKafkaProducer.send\u001B[1;34m(self, topic, value, key, headers, partition, timestamp_ms)\u001B[0m\n\u001B[0;32m    605\u001B[0m \u001B[38;5;28;01mif\u001B[39;00m batch_is_full \u001B[38;5;129;01mor\u001B[39;00m new_batch_created:\n\u001B[0;32m    606\u001B[0m     log\u001B[38;5;241m.\u001B[39mdebug(\u001B[38;5;124m\"\u001B[39m\u001B[38;5;124mWaking up the sender since \u001B[39m\u001B[38;5;132;01m%s\u001B[39;00m\u001B[38;5;124m is either full or\u001B[39m\u001B[38;5;124m\"\u001B[39m\n\u001B[0;32m    607\u001B[0m               \u001B[38;5;124m\"\u001B[39m\u001B[38;5;124m getting a new batch\u001B[39m\u001B[38;5;124m\"\u001B[39m, tp)\n\u001B[1;32m--> 608\u001B[0m     \u001B[38;5;28;43mself\u001B[39;49m\u001B[38;5;241;43m.\u001B[39;49m\u001B[43m_sender\u001B[49m\u001B[38;5;241;43m.\u001B[39;49m\u001B[43mwakeup\u001B[49m\u001B[43m(\u001B[49m\u001B[43m)\u001B[49m\n\u001B[0;32m    610\u001B[0m \u001B[38;5;28;01mreturn\u001B[39;00m future\n\u001B[0;32m    611\u001B[0m \u001B[38;5;66;03m# handling exceptions and record the errors;\u001B[39;00m\n\u001B[0;32m    612\u001B[0m \u001B[38;5;66;03m# for API exceptions return them in the future,\u001B[39;00m\n\u001B[0;32m    613\u001B[0m \u001B[38;5;66;03m# for other exceptions raise directly\u001B[39;00m\n",
      "File \u001B[1;32mD:\\Git\\Pythom-Middle-Developer\\ugc_sprint_1\\venv\\lib\\site-packages\\kafka\\producer\\sender.py:333\u001B[0m, in \u001B[0;36mSender.wakeup\u001B[1;34m(self)\u001B[0m\n\u001B[0;32m    331\u001B[0m \u001B[38;5;28;01mdef\u001B[39;00m \u001B[38;5;21mwakeup\u001B[39m(\u001B[38;5;28mself\u001B[39m):\n\u001B[0;32m    332\u001B[0m \u001B[38;5;250m    \u001B[39m\u001B[38;5;124;03m\"\"\"Wake up the selector associated with this send thread.\"\"\"\u001B[39;00m\n\u001B[1;32m--> 333\u001B[0m     \u001B[38;5;28;43mself\u001B[39;49m\u001B[38;5;241;43m.\u001B[39;49m\u001B[43m_client\u001B[49m\u001B[38;5;241;43m.\u001B[39;49m\u001B[43mwakeup\u001B[49m\u001B[43m(\u001B[49m\u001B[43m)\u001B[49m\n",
      "File \u001B[1;32mD:\\Git\\Pythom-Middle-Developer\\ugc_sprint_1\\venv\\lib\\site-packages\\kafka\\client_async.py:932\u001B[0m, in \u001B[0;36mKafkaClient.wakeup\u001B[1;34m(self)\u001B[0m\n\u001B[0;32m    930\u001B[0m \u001B[38;5;28;01mwith\u001B[39;00m \u001B[38;5;28mself\u001B[39m\u001B[38;5;241m.\u001B[39m_wake_lock:\n\u001B[0;32m    931\u001B[0m     \u001B[38;5;28;01mtry\u001B[39;00m:\n\u001B[1;32m--> 932\u001B[0m         \u001B[38;5;28;43mself\u001B[39;49m\u001B[38;5;241;43m.\u001B[39;49m\u001B[43m_wake_w\u001B[49m\u001B[38;5;241;43m.\u001B[39;49m\u001B[43msendall\u001B[49m\u001B[43m(\u001B[49m\u001B[38;5;124;43mb\u001B[39;49m\u001B[38;5;124;43m'\u001B[39;49m\u001B[38;5;124;43mx\u001B[39;49m\u001B[38;5;124;43m'\u001B[39;49m\u001B[43m)\u001B[49m\n\u001B[0;32m    933\u001B[0m     \u001B[38;5;28;01mexcept\u001B[39;00m socket\u001B[38;5;241m.\u001B[39mtimeout:\n\u001B[0;32m    934\u001B[0m         log\u001B[38;5;241m.\u001B[39mwarning(\u001B[38;5;124m'\u001B[39m\u001B[38;5;124mTimeout to send to wakeup socket!\u001B[39m\u001B[38;5;124m'\u001B[39m)\n",
      "\u001B[1;31mKeyboardInterrupt\u001B[0m: "
     ]
    }
   ],
   "source": [
    "for i in range(10_000_000):\n",
    "    duration = fake.pyint(min_value=1000, max_value=3*1000)\n",
    "    view_progress = fake.pyint(min_value=1, max_value=duration)\n",
    "    this_message = ClickEvent(\n",
    "        user_id=fake.uuid4(),\n",
    "        movie_id=fake.uuid4(),\n",
    "        current_url=fake.url(),\n",
    "        destination_url=fake.url(),\n",
    "    )\n",
    "    producer.produce_message(\n",
    "        topic_name='click_events',\n",
    "        message=this_message,\n",
    "    )"
   ],
   "metadata": {
    "collapsed": false,
    "ExecuteTime": {
     "end_time": "2024-03-31T11:07:45.124732100Z",
     "start_time": "2024-03-31T11:07:28.947661800Z"
    }
   },
   "id": "64891bee9fa221fb",
   "execution_count": 78
  },
  {
   "cell_type": "code",
   "outputs": [
    {
     "ename": "KeyboardInterrupt",
     "evalue": "",
     "output_type": "error",
     "traceback": [
      "\u001B[1;31m---------------------------------------------------------------------------\u001B[0m",
      "\u001B[1;31mKeyboardInterrupt\u001B[0m                         Traceback (most recent call last)",
      "Cell \u001B[1;32mIn[79], line 10\u001B[0m\n\u001B[0;32m      3\u001B[0m view_progress \u001B[38;5;241m=\u001B[39m fake\u001B[38;5;241m.\u001B[39mpyint(min_value\u001B[38;5;241m=\u001B[39m\u001B[38;5;241m1\u001B[39m, max_value\u001B[38;5;241m=\u001B[39mduration)\n\u001B[0;32m      4\u001B[0m this_message \u001B[38;5;241m=\u001B[39m PlayerSettingEvents(\n\u001B[0;32m      5\u001B[0m     user_id\u001B[38;5;241m=\u001B[39mfake\u001B[38;5;241m.\u001B[39muuid4(),\n\u001B[0;32m      6\u001B[0m     movie_id\u001B[38;5;241m=\u001B[39mfake\u001B[38;5;241m.\u001B[39muuid4(),\n\u001B[0;32m      7\u001B[0m     event_dt\u001B[38;5;241m=\u001B[39mfake\u001B[38;5;241m.\u001B[39mdate_time(),\n\u001B[0;32m      8\u001B[0m     event_type\u001B[38;5;241m=\u001B[39mfake\u001B[38;5;241m.\u001B[39menum(EventsNames),\n\u001B[0;32m      9\u001B[0m )\n\u001B[1;32m---> 10\u001B[0m \u001B[43mproducer\u001B[49m\u001B[38;5;241;43m.\u001B[39;49m\u001B[43mproduce_message\u001B[49m\u001B[43m(\u001B[49m\n\u001B[0;32m     11\u001B[0m \u001B[43m    \u001B[49m\u001B[43mtopic_name\u001B[49m\u001B[38;5;241;43m=\u001B[39;49m\u001B[38;5;124;43m'\u001B[39;49m\u001B[38;5;124;43mplayer_settings_events\u001B[39;49m\u001B[38;5;124;43m'\u001B[39;49m\u001B[43m,\u001B[49m\n\u001B[0;32m     12\u001B[0m \u001B[43m    \u001B[49m\u001B[43mmessage\u001B[49m\u001B[38;5;241;43m=\u001B[39;49m\u001B[43mthis_message\u001B[49m\u001B[43m,\u001B[49m\n\u001B[0;32m     13\u001B[0m \u001B[43m\u001B[49m\u001B[43m)\u001B[49m\n",
      "Cell \u001B[1;32mIn[76], line 11\u001B[0m, in \u001B[0;36mProducer.produce_message\u001B[1;34m(self, topic_name, message)\u001B[0m\n\u001B[0;32m      5\u001B[0m \u001B[38;5;28;01mdef\u001B[39;00m \u001B[38;5;21mproduce_message\u001B[39m(\u001B[38;5;28mself\u001B[39m,  topic_name: \u001B[38;5;28mstr\u001B[39m, message: KafkaModelConfig):\n\u001B[0;32m      6\u001B[0m     \u001B[38;5;66;03m# TODO: Посмотреть нужно ли записывать во все партиции\u001B[39;00m\n\u001B[0;32m      7\u001B[0m     \u001B[38;5;28mself\u001B[39m\u001B[38;5;241m.\u001B[39mproducer\u001B[38;5;241m.\u001B[39msend(\n\u001B[0;32m      8\u001B[0m         topic\u001B[38;5;241m=\u001B[39mtopic_name,\n\u001B[0;32m      9\u001B[0m         value\u001B[38;5;241m=\u001B[39mmessage\u001B[38;5;241m.\u001B[39mmodel_dump_json()\u001B[38;5;241m.\u001B[39mencode(\u001B[38;5;124m\"\u001B[39m\u001B[38;5;124mutf-8\u001B[39m\u001B[38;5;124m\"\u001B[39m),\n\u001B[0;32m     10\u001B[0m     )\n\u001B[1;32m---> 11\u001B[0m     \u001B[38;5;28;43mself\u001B[39;49m\u001B[38;5;241;43m.\u001B[39;49m\u001B[43mproducer\u001B[49m\u001B[38;5;241;43m.\u001B[39;49m\u001B[43mflush\u001B[49m\u001B[43m(\u001B[49m\u001B[43m)\u001B[49m\n",
      "File \u001B[1;32mD:\\Git\\Pythom-Middle-Developer\\ugc_sprint_1\\venv\\lib\\site-packages\\kafka\\producer\\kafka.py:648\u001B[0m, in \u001B[0;36mKafkaProducer.flush\u001B[1;34m(self, timeout)\u001B[0m\n\u001B[0;32m    646\u001B[0m log\u001B[38;5;241m.\u001B[39mdebug(\u001B[38;5;124m\"\u001B[39m\u001B[38;5;124mFlushing accumulated records in producer.\u001B[39m\u001B[38;5;124m\"\u001B[39m)  \u001B[38;5;66;03m# trace\u001B[39;00m\n\u001B[0;32m    647\u001B[0m \u001B[38;5;28mself\u001B[39m\u001B[38;5;241m.\u001B[39m_accumulator\u001B[38;5;241m.\u001B[39mbegin_flush()\n\u001B[1;32m--> 648\u001B[0m \u001B[38;5;28;43mself\u001B[39;49m\u001B[38;5;241;43m.\u001B[39;49m\u001B[43m_sender\u001B[49m\u001B[38;5;241;43m.\u001B[39;49m\u001B[43mwakeup\u001B[49m\u001B[43m(\u001B[49m\u001B[43m)\u001B[49m\n\u001B[0;32m    649\u001B[0m \u001B[38;5;28mself\u001B[39m\u001B[38;5;241m.\u001B[39m_accumulator\u001B[38;5;241m.\u001B[39mawait_flush_completion(timeout\u001B[38;5;241m=\u001B[39mtimeout)\n",
      "File \u001B[1;32mD:\\Git\\Pythom-Middle-Developer\\ugc_sprint_1\\venv\\lib\\site-packages\\kafka\\producer\\sender.py:333\u001B[0m, in \u001B[0;36mSender.wakeup\u001B[1;34m(self)\u001B[0m\n\u001B[0;32m    331\u001B[0m \u001B[38;5;28;01mdef\u001B[39;00m \u001B[38;5;21mwakeup\u001B[39m(\u001B[38;5;28mself\u001B[39m):\n\u001B[0;32m    332\u001B[0m \u001B[38;5;250m    \u001B[39m\u001B[38;5;124;03m\"\"\"Wake up the selector associated with this send thread.\"\"\"\u001B[39;00m\n\u001B[1;32m--> 333\u001B[0m     \u001B[38;5;28;43mself\u001B[39;49m\u001B[38;5;241;43m.\u001B[39;49m\u001B[43m_client\u001B[49m\u001B[38;5;241;43m.\u001B[39;49m\u001B[43mwakeup\u001B[49m\u001B[43m(\u001B[49m\u001B[43m)\u001B[49m\n",
      "File \u001B[1;32mD:\\Git\\Pythom-Middle-Developer\\ugc_sprint_1\\venv\\lib\\site-packages\\kafka\\client_async.py:932\u001B[0m, in \u001B[0;36mKafkaClient.wakeup\u001B[1;34m(self)\u001B[0m\n\u001B[0;32m    930\u001B[0m \u001B[38;5;28;01mwith\u001B[39;00m \u001B[38;5;28mself\u001B[39m\u001B[38;5;241m.\u001B[39m_wake_lock:\n\u001B[0;32m    931\u001B[0m     \u001B[38;5;28;01mtry\u001B[39;00m:\n\u001B[1;32m--> 932\u001B[0m         \u001B[38;5;28;43mself\u001B[39;49m\u001B[38;5;241;43m.\u001B[39;49m\u001B[43m_wake_w\u001B[49m\u001B[38;5;241;43m.\u001B[39;49m\u001B[43msendall\u001B[49m\u001B[43m(\u001B[49m\u001B[38;5;124;43mb\u001B[39;49m\u001B[38;5;124;43m'\u001B[39;49m\u001B[38;5;124;43mx\u001B[39;49m\u001B[38;5;124;43m'\u001B[39;49m\u001B[43m)\u001B[49m\n\u001B[0;32m    933\u001B[0m     \u001B[38;5;28;01mexcept\u001B[39;00m socket\u001B[38;5;241m.\u001B[39mtimeout:\n\u001B[0;32m    934\u001B[0m         log\u001B[38;5;241m.\u001B[39mwarning(\u001B[38;5;124m'\u001B[39m\u001B[38;5;124mTimeout to send to wakeup socket!\u001B[39m\u001B[38;5;124m'\u001B[39m)\n",
      "\u001B[1;31mKeyboardInterrupt\u001B[0m: "
     ]
    }
   ],
   "source": [
    "for i in range(10_000_000):\n",
    "    duration = fake.pyint(min_value=1000, max_value=3*1000)\n",
    "    view_progress = fake.pyint(min_value=1, max_value=duration)\n",
    "    this_message = PlayerSettingEvents(\n",
    "        user_id=fake.uuid4(),\n",
    "        movie_id=fake.uuid4(),\n",
    "        event_dt=fake.date_time(),\n",
    "        event_type=fake.enum(EventsNames),\n",
    "    )\n",
    "    producer.produce_message(\n",
    "        topic_name='player_settings_events',\n",
    "        message=this_message,\n",
    "    )"
   ],
   "metadata": {
    "collapsed": false,
    "ExecuteTime": {
     "end_time": "2024-03-31T11:07:51.134304800Z",
     "start_time": "2024-03-31T11:07:46.050546900Z"
    }
   },
   "id": "45d881fb2525248a",
   "execution_count": 79
  },
  {
   "cell_type": "markdown",
   "source": [
    " Consumer"
   ],
   "metadata": {
    "collapsed": false
   },
   "id": "7840ac34644579"
  },
  {
   "cell_type": "code",
   "outputs": [
    {
     "ename": "NameError",
     "evalue": "name 'KafkaConsumer' is not defined",
     "output_type": "error",
     "traceback": [
      "\u001B[1;31m---------------------------------------------------------------------------\u001B[0m",
      "\u001B[1;31mNameError\u001B[0m                                 Traceback (most recent call last)",
      "Cell \u001B[1;32mIn[25], line 1\u001B[0m\n\u001B[1;32m----> 1\u001B[0m consumer \u001B[38;5;241m=\u001B[39m \u001B[43mKafkaConsumer\u001B[49m(\n\u001B[0;32m      2\u001B[0m     \u001B[38;5;124m'\u001B[39m\u001B[38;5;124mplayer_progress\u001B[39m\u001B[38;5;124m'\u001B[39m,\n\u001B[0;32m      3\u001B[0m     bootstrap_servers\u001B[38;5;241m=\u001B[39m[\u001B[38;5;124m'\u001B[39m\u001B[38;5;124mlocalhost:9094\u001B[39m\u001B[38;5;124m'\u001B[39m],\n\u001B[0;32m      4\u001B[0m     auto_offset_reset\u001B[38;5;241m=\u001B[39m\u001B[38;5;124m'\u001B[39m\u001B[38;5;124mearliest\u001B[39m\u001B[38;5;124m'\u001B[39m,\n\u001B[0;32m      5\u001B[0m     group_id\u001B[38;5;241m=\u001B[39m\u001B[38;5;124m'\u001B[39m\u001B[38;5;124mecho-messages-to-stdout\u001B[39m\u001B[38;5;124m'\u001B[39m,\n\u001B[0;32m      6\u001B[0m )\n\u001B[0;32m      8\u001B[0m \u001B[38;5;28;01mfor\u001B[39;00m message \u001B[38;5;129;01min\u001B[39;00m consumer:\n\u001B[0;32m      9\u001B[0m     \u001B[38;5;28mprint\u001B[39m(message\u001B[38;5;241m.\u001B[39mvalue)\n",
      "\u001B[1;31mNameError\u001B[0m: name 'KafkaConsumer' is not defined"
     ]
    }
   ],
   "source": [
    "consumer = KafkaConsumer(\n",
    "    'player_progress',\n",
    "    bootstrap_servers=['localhost:9094'],\n",
    "    auto_offset_reset='earliest',\n",
    "    group_id='echo-messages-to-stdout',\n",
    ")\n",
    "\n",
    "for message in consumer:\n",
    "    print(message.value)"
   ],
   "metadata": {
    "collapsed": false,
    "ExecuteTime": {
     "end_time": "2024-03-31T08:50:44.919839400Z",
     "start_time": "2024-03-31T08:50:44.834818400Z"
    }
   },
   "id": "2c068cfbcca4c9bc",
   "execution_count": 25
  },
  {
   "cell_type": "code",
   "outputs": [
    {
     "data": {
      "text/plain": "'change_resolution_to_720'"
     },
     "execution_count": 71,
     "metadata": {},
     "output_type": "execute_result"
    }
   ],
   "source": [
    "fake.enum(EventsNames).value"
   ],
   "metadata": {
    "collapsed": false,
    "ExecuteTime": {
     "end_time": "2024-03-31T09:22:32.656584300Z",
     "start_time": "2024-03-31T09:22:32.647586Z"
    }
   },
   "id": "30861878eaf00d04",
   "execution_count": 71
  },
  {
   "cell_type": "code",
   "outputs": [],
   "source": [],
   "metadata": {
    "collapsed": false
   },
   "id": "94489fabf2ce6b41"
  },
  {
   "cell_type": "code",
   "outputs": [],
   "source": [],
   "metadata": {
    "collapsed": false
   },
   "id": "18289bfef73c36a6"
  }
 ],
 "metadata": {
  "kernelspec": {
   "display_name": "Python 3 (ipykernel)",
   "language": "python",
   "name": "python3"
  },
  "language_info": {
   "codemirror_mode": {
    "name": "ipython",
    "version": 3
   },
   "file_extension": ".py",
   "mimetype": "text/x-python",
   "name": "python",
   "nbconvert_exporter": "python",
   "pygments_lexer": "ipython3",
   "version": "3.9.11"
  }
 },
 "nbformat": 4,
 "nbformat_minor": 5
}
